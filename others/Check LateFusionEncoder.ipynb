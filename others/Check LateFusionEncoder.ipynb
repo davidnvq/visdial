{
 "cells": [
  {
   "cell_type": "code",
   "execution_count": 1,
   "metadata": {},
   "outputs": [],
   "source": [
    "import torch"
   ]
  },
  {
   "cell_type": "code",
   "execution_count": 2,
   "metadata": {},
   "outputs": [],
   "source": [
    "run visdial/encoders/encoder.py"
   ]
  },
  {
   "cell_type": "code",
   "execution_count": 9,
   "metadata": {},
   "outputs": [
    {
     "name": "stdout",
     "output_type": "stream",
     "text": [
      "HOME_PATH /home/quanguet\n",
      "DATA_PATH /home/quanguet/datasets/visdial\n"
     ]
    }
   ],
   "source": [
    "run configs/disc_lstm_config.py"
   ]
  },
  {
   "cell_type": "code",
   "execution_count": 10,
   "metadata": {},
   "outputs": [],
   "source": [
    "config = get_disc_lstm_config()"
   ]
  },
  {
   "cell_type": "code",
   "execution_count": 11,
   "metadata": {},
   "outputs": [],
   "source": [
    "encoder = LateFusionEncoder(config)"
   ]
  },
  {
   "cell_type": "code",
   "execution_count": 23,
   "metadata": {},
   "outputs": [],
   "source": [
    "batch = {\n",
    "    'img_feat' : torch.randn(2, 36, 2048),\n",
    "    'ques_tokens' : torch.randint(0, 11322, size=(2, 10 , 25)),\n",
    "    'ques_len' : torch.randint(1, 25, size=(2, 10)),\n",
    "    'concat_hist_tokens' : torch.randint(0, 11322, size=(2, 10, 25*2*10)), \n",
    "    'concat_hist_len' : torch.randint(0, 25*2*10, size=(2, 10)), \n",
    "    'opt' : torch.randint(0, 11322, size=(2, 10, 100, 25)),\n",
    "    'opt_len' : torch.randint(0, 25, size=(2, 10, 100))\n",
    "}"
   ]
  }
 ],
 "metadata": {
  "kernelspec": {
   "display_name": "Python 3",
   "language": "python",
   "name": "python3"
  },
  "language_info": {
   "codemirror_mode": {
    "name": "ipython",
    "version": 3
   },
   "file_extension": ".py",
   "mimetype": "text/x-python",
   "name": "python",
   "nbconvert_exporter": "python",
   "pygments_lexer": "ipython3",
   "version": "3.7.3"
  }
 },
 "nbformat": 4,
 "nbformat_minor": 2
}
