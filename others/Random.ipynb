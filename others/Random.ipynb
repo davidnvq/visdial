{
 "cells": [
  {
   "cell_type": "code",
   "execution_count": 1,
   "metadata": {},
   "outputs": [],
   "source": [
    "import torch\n",
    "import torch.nn as nn"
   ]
  },
  {
   "cell_type": "code",
   "execution_count": 2,
   "metadata": {},
   "outputs": [],
   "source": [
    "net = nn.Sequential(\n",
    "    nn.Linear(3,4),\n",
    "    nn.Linear(4,5)\n",
    ")"
   ]
  },
  {
   "cell_type": "code",
   "execution_count": 5,
   "metadata": {},
   "outputs": [
    {
     "data": {
      "text/plain": [
       "torch.Size([10, 4])"
      ]
     },
     "execution_count": 5,
     "metadata": {},
     "output_type": "execute_result"
    }
   ],
   "source": [
    "net[:-1](torch.randn(10,3)).shape"
   ]
  },
  {
   "cell_type": "code",
   "execution_count": 95,
   "metadata": {},
   "outputs": [],
   "source": [
    "x = torch.tensor([[1,2,3,4,5]], dtype=float).double()\n",
    "y = torch.tensor([[4,2,6,8,10]], dtype=float).double()"
   ]
  },
  {
   "cell_type": "code",
   "execution_count": 96,
   "metadata": {},
   "outputs": [],
   "source": [
    "ln = nn.LayerNorm(5).double()"
   ]
  },
  {
   "cell_type": "code",
   "execution_count": 97,
   "metadata": {},
   "outputs": [],
   "source": [
    "xx = ln(x)[0]"
   ]
  },
  {
   "cell_type": "code",
   "execution_count": 98,
   "metadata": {},
   "outputs": [],
   "source": [
    "yy = ln(y)[0]"
   ]
  },
  {
   "cell_type": "code",
   "execution_count": 113,
   "metadata": {},
   "outputs": [
    {
     "name": "stdout",
     "output_type": "stream",
     "text": [
      "tensor([[0.0010, 0.1000]])\n",
      "tensor([[-0.9980,  0.9980]], grad_fn=<NativeLayerNormBackward>)\n",
      "tensor([[0.1196, 0.8804]], grad_fn=<SoftmaxBackward>)\n"
     ]
    }
   ],
   "source": [
    "a = torch.tensor([[1e-3, 1e-1]])\n",
    "x = nn.LayerNorm(2)(a)\n",
    "print(a)\n",
    "print(x)\n",
    "print(torch.softmax(x, dim=-1))"
   ]
  },
  {
   "cell_type": "code",
   "execution_count": 108,
   "metadata": {},
   "outputs": [
    {
     "data": {
      "text/plain": [
       "tensor([-7.0711e-01, -1.4142e+00, -1.1102e-16,  7.0711e-01,  1.4142e+00],\n",
       "       dtype=torch.float64, grad_fn=<SelectBackward>)"
      ]
     },
     "execution_count": 108,
     "metadata": {},
     "output_type": "execute_result"
    }
   ],
   "source": []
  },
  {
   "cell_type": "code",
   "execution_count": 106,
   "metadata": {},
   "outputs": [
    {
     "data": {
      "text/plain": [
       "tensor(2.0000, dtype=torch.float64, grad_fn=<SumBackward0>)"
      ]
     },
     "execution_count": 106,
     "metadata": {},
     "output_type": "execute_result"
    }
   ],
   "source": [
    "import numpy as np\n",
    "torch.sum(xx[4:]*yy[4:])"
   ]
  },
  {
   "cell_type": "code",
   "execution_count": 92,
   "metadata": {},
   "outputs": [
    {
     "data": {
      "text/plain": [
       "tensor(124., dtype=torch.float64)"
      ]
     },
     "execution_count": 92,
     "metadata": {},
     "output_type": "execute_result"
    }
   ],
   "source": [
    "import math\n",
    "torch.sum(x * y)"
   ]
  },
  {
   "cell_type": "code",
   "execution_count": 39,
   "metadata": {},
   "outputs": [
    {
     "data": {
      "text/plain": [
       "tensor([0.1092, 0.2969, 0.2969, 0.2969])"
      ]
     },
     "execution_count": 39,
     "metadata": {},
     "output_type": "execute_result"
    }
   ],
   "source": [
    "torch.softmax(torch.tensor([-0.5, 0.5, 0.5, 0.5]), dim=-1)"
   ]
  },
  {
   "cell_type": "code",
   "execution_count": 45,
   "metadata": {},
   "outputs": [
    {
     "name": "stdout",
     "output_type": "stream",
     "text": [
      "[1 2 3 4 5 6 7 8 9]\n",
      "[9 8 7 6 5 4 3 2 1]\n",
      "[[1. 1.]\n",
      " [1. 1.]]\n"
     ]
    }
   ],
   "source": [
    "from numpy import corrcoef, array\n",
    "x = array([1,2,3,4,5,6,7,8,9])\n",
    "print(x)\n",
    "y = array([9,8,7,6,5,4,3,2,1])\n",
    "print(y)\n",
    "Sigma = corrcoef(x,x)\n",
    "print(Sigma)"
   ]
  },
  {
   "cell_type": "code",
   "execution_count": 43,
   "metadata": {},
   "outputs": [
    {
     "name": "stdout",
     "output_type": "stream",
     "text": [
      "[1 2 3 4 5 6 7 8 9]\n",
      "[9 8 7 6 5 4 3 2 1]\n",
      "[[ 7.5 -7.5]\n",
      " [-7.5  7.5]]\n"
     ]
    }
   ],
   "source": [
    "\n",
    "from numpy import array\n",
    "from numpy import cov\n",
    "x = array([1,2,3,4,5,6,7,8,9])\n",
    "print(x)\n",
    "y = array([9,8,7,6,5,4,3,2,1])\n",
    "print(y)\n",
    "Sigma = cov(x,y)\n",
    "print(Sigma)"
   ]
  },
  {
   "cell_type": "code",
   "execution_count": 44,
   "metadata": {},
   "outputs": [
    {
     "data": {
      "text/plain": [
       "\u001b[0;31mSignature:\u001b[0m\n",
       "\u001b[0mcov\u001b[0m\u001b[0;34m(\u001b[0m\u001b[0;34m\u001b[0m\n",
       "\u001b[0;34m\u001b[0m    \u001b[0mm\u001b[0m\u001b[0;34m,\u001b[0m\u001b[0;34m\u001b[0m\n",
       "\u001b[0;34m\u001b[0m    \u001b[0my\u001b[0m\u001b[0;34m=\u001b[0m\u001b[0;32mNone\u001b[0m\u001b[0;34m,\u001b[0m\u001b[0;34m\u001b[0m\n",
       "\u001b[0;34m\u001b[0m    \u001b[0mrowvar\u001b[0m\u001b[0;34m=\u001b[0m\u001b[0;32mTrue\u001b[0m\u001b[0;34m,\u001b[0m\u001b[0;34m\u001b[0m\n",
       "\u001b[0;34m\u001b[0m    \u001b[0mbias\u001b[0m\u001b[0;34m=\u001b[0m\u001b[0;32mFalse\u001b[0m\u001b[0;34m,\u001b[0m\u001b[0;34m\u001b[0m\n",
       "\u001b[0;34m\u001b[0m    \u001b[0mddof\u001b[0m\u001b[0;34m=\u001b[0m\u001b[0;32mNone\u001b[0m\u001b[0;34m,\u001b[0m\u001b[0;34m\u001b[0m\n",
       "\u001b[0;34m\u001b[0m    \u001b[0mfweights\u001b[0m\u001b[0;34m=\u001b[0m\u001b[0;32mNone\u001b[0m\u001b[0;34m,\u001b[0m\u001b[0;34m\u001b[0m\n",
       "\u001b[0;34m\u001b[0m    \u001b[0maweights\u001b[0m\u001b[0;34m=\u001b[0m\u001b[0;32mNone\u001b[0m\u001b[0;34m,\u001b[0m\u001b[0;34m\u001b[0m\n",
       "\u001b[0;34m\u001b[0m\u001b[0;34m)\u001b[0m\u001b[0;34m\u001b[0m\u001b[0;34m\u001b[0m\u001b[0m\n",
       "\u001b[0;31mDocstring:\u001b[0m\n",
       "Estimate a covariance matrix, given data and weights.\n",
       "\n",
       "Covariance indicates the level to which two variables vary together.\n",
       "If we examine N-dimensional samples, :math:`X = [x_1, x_2, ... x_N]^T`,\n",
       "then the covariance matrix element :math:`C_{ij}` is the covariance of\n",
       ":math:`x_i` and :math:`x_j`. The element :math:`C_{ii}` is the variance\n",
       "of :math:`x_i`.\n",
       "\n",
       "See the notes for an outline of the algorithm.\n",
       "\n",
       "Parameters\n",
       "----------\n",
       "m : array_like\n",
       "    A 1-D or 2-D array containing multiple variables and observations.\n",
       "    Each row of `m` represents a variable, and each column a single\n",
       "    observation of all those variables. Also see `rowvar` below.\n",
       "y : array_like, optional\n",
       "    An additional set of variables and observations. `y` has the same form\n",
       "    as that of `m`.\n",
       "rowvar : bool, optional\n",
       "    If `rowvar` is True (default), then each row represents a\n",
       "    variable, with observations in the columns. Otherwise, the relationship\n",
       "    is transposed: each column represents a variable, while the rows\n",
       "    contain observations.\n",
       "bias : bool, optional\n",
       "    Default normalization (False) is by ``(N - 1)``, where ``N`` is the\n",
       "    number of observations given (unbiased estimate). If `bias` is True,\n",
       "    then normalization is by ``N``. These values can be overridden by using\n",
       "    the keyword ``ddof`` in numpy versions >= 1.5.\n",
       "ddof : int, optional\n",
       "    If not ``None`` the default value implied by `bias` is overridden.\n",
       "    Note that ``ddof=1`` will return the unbiased estimate, even if both\n",
       "    `fweights` and `aweights` are specified, and ``ddof=0`` will return\n",
       "    the simple average. See the notes for the details. The default value\n",
       "    is ``None``.\n",
       "\n",
       "    .. versionadded:: 1.5\n",
       "fweights : array_like, int, optional\n",
       "    1-D array of integer frequency weights; the number of times each\n",
       "    observation vector should be repeated.\n",
       "\n",
       "    .. versionadded:: 1.10\n",
       "aweights : array_like, optional\n",
       "    1-D array of observation vector weights. These relative weights are\n",
       "    typically large for observations considered \"important\" and smaller for\n",
       "    observations considered less \"important\". If ``ddof=0`` the array of\n",
       "    weights can be used to assign probabilities to observation vectors.\n",
       "\n",
       "    .. versionadded:: 1.10\n",
       "\n",
       "Returns\n",
       "-------\n",
       "out : ndarray\n",
       "    The covariance matrix of the variables.\n",
       "\n",
       "See Also\n",
       "--------\n",
       "corrcoef : Normalized covariance matrix\n",
       "\n",
       "Notes\n",
       "-----\n",
       "Assume that the observations are in the columns of the observation\n",
       "array `m` and let ``f = fweights`` and ``a = aweights`` for brevity. The\n",
       "steps to compute the weighted covariance are as follows::\n",
       "\n",
       "    >>> w = f * a\n",
       "    >>> v1 = np.sum(w)\n",
       "    >>> v2 = np.sum(w * a)\n",
       "    >>> m -= np.sum(m * w, axis=1, keepdims=True) / v1\n",
       "    >>> cov = np.dot(m * w, m.T) * v1 / (v1**2 - ddof * v2)\n",
       "\n",
       "Note that when ``a == 1``, the normalization factor\n",
       "``v1 / (v1**2 - ddof * v2)`` goes over to ``1 / (np.sum(f) - ddof)``\n",
       "as it should.\n",
       "\n",
       "Examples\n",
       "--------\n",
       "Consider two variables, :math:`x_0` and :math:`x_1`, which\n",
       "correlate perfectly, but in opposite directions:\n",
       "\n",
       ">>> x = np.array([[0, 2], [1, 1], [2, 0]]).T\n",
       ">>> x\n",
       "array([[0, 1, 2],\n",
       "       [2, 1, 0]])\n",
       "\n",
       "Note how :math:`x_0` increases while :math:`x_1` decreases. The covariance\n",
       "matrix shows this clearly:\n",
       "\n",
       ">>> np.cov(x)\n",
       "array([[ 1., -1.],\n",
       "       [-1.,  1.]])\n",
       "\n",
       "Note that element :math:`C_{0,1}`, which shows the correlation between\n",
       ":math:`x_0` and :math:`x_1`, is negative.\n",
       "\n",
       "Further, note how `x` and `y` are combined:\n",
       "\n",
       ">>> x = [-2.1, -1,  4.3]\n",
       ">>> y = [3,  1.1,  0.12]\n",
       ">>> X = np.stack((x, y), axis=0)\n",
       ">>> print(np.cov(X))\n",
       "[[ 11.71        -4.286     ]\n",
       " [ -4.286        2.14413333]]\n",
       ">>> print(np.cov(x, y))\n",
       "[[ 11.71        -4.286     ]\n",
       " [ -4.286        2.14413333]]\n",
       ">>> print(np.cov(x))\n",
       "11.71\n",
       "\u001b[0;31mFile:\u001b[0m      ~/anaconda3/lib/python3.7/site-packages/numpy/lib/function_base.py\n",
       "\u001b[0;31mType:\u001b[0m      function\n"
      ]
     },
     "metadata": {},
     "output_type": "display_data"
    }
   ],
   "source": [
    "cov?"
   ]
  },
  {
   "cell_type": "code",
   "execution_count": 116,
   "metadata": {},
   "outputs": [
    {
     "name": "stdout",
     "output_type": "stream",
     "text": [
      "['A', 'B', 'C', 'D', 'E', 'F', 'G', 'H']\n"
     ]
    },
    {
     "data": {
      "image/png": "[encoded data removed]",
      "text/plain": [
       "<Figure size 432x288 with 1 Axes>"
      ]
     },
     "metadata": {
      "needs_background": "light"
     },
     "output_type": "display_data"
    }
   ],
   "source": [
    "# #04.Problem028\n",
    "a  = [35, 41, 21, 14, 6, 2, 0, 2]\n",
    "import matplotlib.pyplot as plt\n",
    "import string\n",
    "a  = [35, 41, 21, 14, 6, 2, 0, 2]\n",
    "up = string.ascii_uppercase\n",
    "\n",
    "x=[]\n",
    "for i in range(len(a)):\n",
    "    x+=up[i]\n",
    "print(x)\n",
    "plt.bar(x,a)\n",
    "plt.xlabel('abscissa')\n",
    "plt.ylabel('ordinate')\n",
    "plt.show()"
   ]
  },
  {
   "cell_type": "code",
   "execution_count": 117,
   "metadata": {},
   "outputs": [],
   "source": [
    "import numpy as np\n",
    "a  = np.array([35, 41, 21, 14, 6, 2, 0, 2])"
   ]
  },
  {
   "cell_type": "code",
   "execution_count": 215,
   "metadata": {},
   "outputs": [
    {
     "name": "stdout",
     "output_type": "stream",
     "text": [
      "--2019-10-28 12:49:26--  http://gp-ds.tohoku.ac.jp/class/camp1_2019b/material/letter_recognition_data.txt\n",
      "Resolving gp-ds.tohoku.ac.jp (gp-ds.tohoku.ac.jp)... 130.34.41.59\n",
      "Connecting to gp-ds.tohoku.ac.jp (gp-ds.tohoku.ac.jp)|130.34.41.59|:80... connected.\n",
      "HTTP request sent, awaiting response... 200 OK\n",
      "Length: 712565 (696K) [text/plain]\n",
      "Saving to: ‘letter_recognition_data.txt’\n",
      "\n",
      "letter_recognition_ 100%[===================>] 695.86K  --.-KB/s    in 0.01s   \n",
      "\n",
      "2019-10-28 12:49:26 (63.0 MB/s) - ‘letter_recognition_data.txt’ saved [712565/712565]\n",
      "\n"
     ]
    }
   ],
   "source": [
    "!wget http://gp-ds.tohoku.ac.jp/class/camp1_2019b/material/letter_recognition_data.txt"
   ]
  },
  {
   "cell_type": "code",
   "execution_count": 262,
   "metadata": {},
   "outputs": [
    {
     "name": "stdout",
     "output_type": "stream",
     "text": [
      "T,2,8,3,5,1,8,13,0,6,6,10,8,0,8,0,8\n",
      "I,5,12,3,7,2,10,5,5,4,13,3,9,2,8,4,10\n",
      "D,4,11,6,8,6,10,6,2,6,10,3,7,3,7,3,9\n",
      "N,7,11,6,6,3,5,9,4,6,4,4,10,6,10,2,8\n",
      "G,2,1,3,1,1,8,6,6,6,6,5,9,1,7,5,10\n",
      "S,4,11,5,8,3,8,8,6,9,5,6,6,0,8,9,7\n",
      "B,4,2,5,4,4,8,7,6,6,7,6,6,2,8,7,10\n",
      "A,1,1,3,2,1,8,2,2,2,8,2,8,1,6,2,7\n",
      "J,2,2,4,4,2,10,6,2,6,12,4,8,1,6,1,7\n",
      "M,11,15,13,9,7,13,2,6,2,12,1,9,8,1,1,8\n"
     ]
    }
   ],
   "source": [
    "!head letter_recognition_data.txt"
   ]
  },
  {
   "cell_type": "code",
   "execution_count": 259,
   "metadata": {},
   "outputs": [],
   "source": [
    "import numpy as np\n",
    "import pandas as pd\n",
    "from sklearn import preprocessing\n",
    "from sklearn.tree import DecisionTreeClassifier\n",
    "from sklearn.metrics import accuracy_score, confusion_matrix"
   ]
  },
  {
   "cell_type": "code",
   "execution_count": 263,
   "metadata": {},
   "outputs": [],
   "source": [
    "df = pd.read_csv('letter_recognition_data.txt', sep=',',header=None)"
   ]
  },
  {
   "cell_type": "code",
   "execution_count": 269,
   "metadata": {},
   "outputs": [],
   "source": [
    "labels = np.array(df.loc[:, 0])"
   ]
  },
  {
   "cell_type": "code",
   "execution_count": 270,
   "metadata": {},
   "outputs": [
    {
     "data": {
      "text/plain": [
       "array(['T', 'I', 'D', ..., 'T', 'S', 'A'], dtype=object)"
      ]
     },
     "execution_count": 270,
     "metadata": {},
     "output_type": "execute_result"
    }
   ],
   "source": [
    "labels"
   ]
  },
  {
   "cell_type": "code",
   "execution_count": 272,
   "metadata": {},
   "outputs": [
    {
     "data": {
      "text/plain": [
       "array([[ 2,  8,  3, ...,  8,  0,  8],\n",
       "       [ 5, 12,  3, ...,  8,  4, 10],\n",
       "       [ 4, 11,  6, ...,  7,  3,  9],\n",
       "       ...,\n",
       "       [ 6,  9,  6, ..., 12,  2,  4],\n",
       "       [ 2,  3,  4, ...,  9,  5,  8],\n",
       "       [ 4,  9,  6, ...,  7,  2,  8]])"
      ]
     },
     "execution_count": 272,
     "metadata": {},
     "output_type": "execute_result"
    }
   ],
   "source": [
    "X = np.array(df.loc[:, 1:])\n",
    "X"
   ]
  },
  {
   "cell_type": "code",
   "execution_count": null,
   "metadata": {},
   "outputs": [],
   "source": []
  },
  {
   "cell_type": "code",
   "execution_count": 253,
   "metadata": {},
   "outputs": [],
   "source": [
    "# Read data\n",
    "labels = np.array(df.loc[:, 0])\n",
    "\n",
    "\n",
    "# Encode label\n",
    "le = preprocessing.LabelEncoder()\n",
    "Y = le.fit_transform(labels)\n",
    "\n",
    "# Split data\n",
    "X_train, X_test = X[:15000], X[15000:]\n",
    "Y_train, Y_test = Y[:15000], Y[15000:]"
   ]
  },
  {
   "cell_type": "code",
   "execution_count": 275,
   "metadata": {},
   "outputs": [
    {
     "name": "stdout",
     "output_type": "stream",
     "text": [
      "Model: DecisionTreeClassifier\n",
      "0.8628\n"
     ]
    }
   ],
   "source": [
    "# Init model\n",
    "classifier = DecisionTreeClassifier()\n",
    "print(\"Model: DecisionTreeClassifier\")\n",
    "\n",
    "# Train model\n",
    "classifier.fit(X_train, Y_train)\n",
    "\n",
    "# Predict X_test\n",
    "Y_pred = classifier.predict(X_test)\n",
    "\n",
    "# Compute Accuracy\n",
    "print(accuracy_score(Y_test, Y_pred))"
   ]
  },
  {
   "cell_type": "code",
   "execution_count": 276,
   "metadata": {},
   "outputs": [],
   "source": [
    "from sklearn.model_selection import GridSearchCV"
   ]
  },
  {
   "cell_type": "code",
   "execution_count": 282,
   "metadata": {},
   "outputs": [],
   "source": [
    "params = {'max_depth':(10,20)}"
   ]
  },
  {
   "cell_type": "code",
   "execution_count": 289,
   "metadata": {},
   "outputs": [],
   "source": [
    "gridsearch = GridSearchCV(DecisionTreeClassifier(), params, cv=5)"
   ]
  },
  {
   "cell_type": "code",
   "execution_count": 290,
   "metadata": {},
   "outputs": [
    {
     "data": {
      "text/plain": [
       "GridSearchCV(cv=5, error_score='raise-deprecating',\n",
       "             estimator=DecisionTreeClassifier(class_weight=None,\n",
       "                                              criterion='gini', max_depth=None,\n",
       "                                              max_features=None,\n",
       "                                              max_leaf_nodes=None,\n",
       "                                              min_impurity_decrease=0.0,\n",
       "                                              min_impurity_split=None,\n",
       "                                              min_samples_leaf=1,\n",
       "                                              min_samples_split=2,\n",
       "                                              min_weight_fraction_leaf=0.0,\n",
       "                                              presort=False, random_state=None,\n",
       "                                              splitter='best'),\n",
       "             iid='warn', n_jobs=None, param_grid={'max_depth': (10, 20)},\n",
       "             pre_dispatch='2*n_jobs', refit=True, return_train_score=False,\n",
       "             scoring=None, verbose=0)"
      ]
     },
     "execution_count": 290,
     "metadata": {},
     "output_type": "execute_result"
    }
   ],
   "source": [
    "gridsearch.fit(X, Y)"
   ]
  },
  {
   "cell_type": "code",
   "execution_count": 285,
   "metadata": {},
   "outputs": [
    {
     "name": "stdout",
     "output_type": "stream",
     "text": [
      "0.9878\n"
     ]
    }
   ],
   "source": []
  },
  {
   "cell_type": "code",
   "execution_count": 291,
   "metadata": {},
   "outputs": [
    {
     "name": "stdout",
     "output_type": "stream",
     "text": [
      "0.9878\n"
     ]
    }
   ],
   "source": [
    "best_clf = gridsearch.best_estimator_\n",
    "\n",
    "# Predict X_test\n",
    "Y_pred = best_clf.predict(X_test)\n",
    "\n",
    "# Compute Accuracy\n",
    "print(accuracy_score(Y_test, Y_pred))"
   ]
  },
  {
   "cell_type": "code",
   "execution_count": 292,
   "metadata": {},
   "outputs": [
    {
     "name": "stdout",
     "output_type": "stream",
     "text": [
      "--2019-10-28 15:57:00--  http://gp-ds.tohoku.ac.jp/class/camp1_2019b/material/atcg.txt\n",
      "Resolving gp-ds.tohoku.ac.jp (gp-ds.tohoku.ac.jp)... 130.34.41.59\n",
      "Connecting to gp-ds.tohoku.ac.jp (gp-ds.tohoku.ac.jp)|130.34.41.59|:80... connected.\n",
      "HTTP request sent, awaiting response... 200 OK\n",
      "Length: 942197 (920K) [text/plain]\n",
      "Saving to: ‘atcg.txt’\n",
      "\n",
      "atcg.txt            100%[===================>] 920.11K  --.-KB/s    in 0.01s   \n",
      "\n",
      "2019-10-28 15:57:00 (63.6 MB/s) - ‘atcg.txt’ saved [942197/942197]\n",
      "\n"
     ]
    }
   ],
   "source": [
    "!wget http://gp-ds.tohoku.ac.jp/class/camp1_2019b/material/atcg.txt"
   ]
  },
  {
   "cell_type": "code",
   "execution_count": 293,
   "metadata": {},
   "outputs": [
    {
     "name": "stdout",
     "output_type": "stream",
     "text": [
      "AGCAAAAGCAGGGTAGATAATCACTCACTGAGTGACATCAAAATCATGGCGTCCCAAGGCACCAAACGGT\n",
      "CTTACGAACAGATGGAGACTGATGGAGAACGCCAGAATGCCACTGAAATCAGAGCATCCGTCGGAAAAAT\n",
      "GATTGGTGGAATTGGACGATTCTACATCCAAATGTGCACAGAACTTAAGCTCAGTGATTATGAGGGACGG\n",
      "TTGATCCAAAACAGCTTAACAATAGAGAGAATGGTGCTCTCTGCTTTTGACGAAAGGAGAAATAAATACC\n",
      "TGGAAGAACATCCCAGTGCGGGGAAAGATCCTAAGAAAACTGGAGGACCTATATACAGAAGAGTAAACGG\n",
      "AAAGTGGATGAGAGAACTCATCCTTTATGACAAAGAAGAAATAAGGCGAATCTGGCGCCAAGCTAATAAT\n",
      "GGTGACGATGCAACGGCTGGTCTGACTCACATGATGATCTGGCATTCCAATTTGAATGATGCAACTTATC\n",
      "AGAGGACAAGAGCTCTTGTTCGCACCGGAATGGATCCCAGGATGTGCTCTCTGATGCAAGGTTCAACTCT\n",
      "CCCTAGGAGATCTGGAGCCGCAGGTGCTGCAGTCAAAGGAGTTGGAACAATGGTGATGGAATTGGTCAGG\n",
      "ATGATCAAACGTGGGATCAATGATCGGAACTTCTGGAGGGGTGAGAATGGACGAAAAACAAGAATTGCTT\n"
     ]
    }
   ],
   "source": [
    "!head atcg.txt"
   ]
  },
  {
   "cell_type": "code",
   "execution_count": 296,
   "metadata": {},
   "outputs": [],
   "source": [
    "with open('atcg.txt', 'r') as file:\n",
    "    lines = file.readlines()"
   ]
  },
  {
   "cell_type": "code",
   "execution_count": 297,
   "metadata": {},
   "outputs": [
    {
     "data": {
      "text/plain": [
       "'AGCAAAAGCAGGGTAGATAATCACTCACTGAGTGACATCAAAATCATGGCGTCCCAAGGCACCAAACGGT\\n'"
      ]
     },
     "execution_count": 297,
     "metadata": {},
     "output_type": "execute_result"
    }
   ],
   "source": [
    "lines[0]"
   ]
  },
  {
   "cell_type": "code",
   "execution_count": 307,
   "metadata": {},
   "outputs": [],
   "source": [
    "def count(pattern):\n",
    "    num_counts = 0\n",
    "    for line in lines:\n",
    "        num_counts += line.count(pattern)\n",
    "    return num_counts"
   ]
  },
  {
   "cell_type": "code",
   "execution_count": 305,
   "metadata": {},
   "outputs": [
    {
     "data": {
      "text/plain": [
       "167"
      ]
     },
     "execution_count": 305,
     "metadata": {},
     "output_type": "execute_result"
    }
   ],
   "source": [
    "f"
   ]
  },
  {
   "cell_type": "code",
   "execution_count": 316,
   "metadata": {},
   "outputs": [],
   "source": [
    "a4 = count('AAAA')"
   ]
  },
  {
   "cell_type": "code",
   "execution_count": 317,
   "metadata": {},
   "outputs": [
    {
     "name": "stdout",
     "output_type": "stream",
     "text": [
      "11321\n"
     ]
    }
   ],
   "source": [
    "print(a4)"
   ]
  },
  {
   "cell_type": "code",
   "execution_count": 318,
   "metadata": {},
   "outputs": [
    {
     "data": {
      "text/plain": [
       "30396"
      ]
     },
     "execution_count": 318,
     "metadata": {},
     "output_type": "execute_result"
    }
   ],
   "source": [
    "count('AAA')"
   ]
  },
  {
   "cell_type": "code",
   "execution_count": 319,
   "metadata": {},
   "outputs": [],
   "source": [
    "a3 = count('AAA') - 2 * a4"
   ]
  },
  {
   "cell_type": "code",
   "execution_count": 320,
   "metadata": {},
   "outputs": [
    {
     "data": {
      "text/plain": [
       "7754"
      ]
     },
     "execution_count": 320,
     "metadata": {},
     "output_type": "execute_result"
    }
   ],
   "source": [
    "a3"
   ]
  },
  {
   "cell_type": "code",
   "execution_count": 324,
   "metadata": {},
   "outputs": [],
   "source": [
    "a2 = count('AA') - 3 * a4 - 2 * a3 "
   ]
  },
  {
   "cell_type": "code",
   "execution_count": 325,
   "metadata": {},
   "outputs": [
    {
     "data": {
      "text/plain": [
       "38874"
      ]
     },
     "execution_count": 325,
     "metadata": {},
     "output_type": "execute_result"
    }
   ],
   "source": [
    "a2"
   ]
  },
  {
   "cell_type": "code",
   "execution_count": 326,
   "metadata": {},
   "outputs": [
    {
     "data": {
      "text/plain": [
       "88345"
      ]
     },
     "execution_count": 326,
     "metadata": {},
     "output_type": "execute_result"
    }
   ],
   "source": [
    "count('AA')"
   ]
  },
  {
   "cell_type": "code",
   "execution_count": 330,
   "metadata": {},
   "outputs": [
    {
     "data": {
      "text/plain": [
       "167035"
      ]
     },
     "execution_count": 330,
     "metadata": {},
     "output_type": "execute_result"
    }
   ],
   "source": [
    "count('A') - a2 * 2 - 4 * a4 - 3 * a3"
   ]
  },
  {
   "cell_type": "code",
   "execution_count": 312,
   "metadata": {},
   "outputs": [],
   "source": [
    "a2 = count('AA') - 3*count('AAAA') - 2*a3"
   ]
  },
  {
   "cell_type": "code",
   "execution_count": 313,
   "metadata": {},
   "outputs": [
    {
     "data": {
      "text/plain": [
       "38874"
      ]
     },
     "execution_count": 313,
     "metadata": {},
     "output_type": "execute_result"
    }
   ],
   "source": [
    "a2"
   ]
  },
  {
   "cell_type": "code",
   "execution_count": 314,
   "metadata": {},
   "outputs": [],
   "source": [
    "a3 = count('A') - 4*count('AAAA') - 3*a3 - 2*a2"
   ]
  },
  {
   "cell_type": "code",
   "execution_count": 315,
   "metadata": {},
   "outputs": [
    {
     "data": {
      "text/plain": [
       "167035"
      ]
     },
     "execution_count": 315,
     "metadata": {},
     "output_type": "execute_result"
    }
   ],
   "source": [
    "a3"
   ]
  },
  {
   "cell_type": "code",
   "execution_count": null,
   "metadata": {},
   "outputs": [],
   "source": []
  }
 ],
 "metadata": {
  "kernelspec": {
   "display_name": "Python 3",
   "language": "python",
   "name": "python3"
  },
  "language_info": {
   "codemirror_mode": {
    "name": "ipython",
    "version": 3
   },
   "file_extension": ".py",
   "mimetype": "text/x-python",
   "name": "python",
   "nbconvert_exporter": "python",
   "pygments_lexer": "ipython3",
   "version": "3.7.3"
  }
 },
 "nbformat": 4,
 "nbformat_minor": 4
}
