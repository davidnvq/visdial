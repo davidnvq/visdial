{
 "cells": [
  {
   "cell_type": "code",
   "execution_count": 1,
   "metadata": {},
   "outputs": [
    {
     "name": "stdout",
     "output_type": "stream",
     "text": [
      "HOME_PATH /home/quanguet\n",
      "DATA_PATH /home/quanguet/datasets/visdial\n",
      "HOME_PATH /home/quanguet\n",
      "DATA_PATH /home/quanguet/datasets/visdial\n"
     ]
    },
    {
     "name": "stderr",
     "output_type": "stream",
     "text": [
      "  3%|▎         | 1264/45238 [00:00<00:03, 12636.85it/s]"
     ]
    },
    {
     "name": "stdout",
     "output_type": "stream",
     "text": [
      "[val2018] Tokenizing questions...\n"
     ]
    },
    {
     "name": "stderr",
     "output_type": "stream",
     "text": [
      "100%|██████████| 45238/45238 [00:03<00:00, 13043.84it/s]\n",
      "  3%|▎         | 1144/34822 [00:00<00:02, 11436.41it/s]"
     ]
    },
    {
     "name": "stdout",
     "output_type": "stream",
     "text": [
      "[val2018] Tokenizing answers...\n"
     ]
    },
    {
     "name": "stderr",
     "output_type": "stream",
     "text": [
      "100%|██████████| 34822/34822 [00:02<00:00, 13400.55it/s]\n",
      "100%|██████████| 2064/2064 [00:00<00:00, 11175.50it/s]\n"
     ]
    },
    {
     "name": "stdout",
     "output_type": "stream",
     "text": [
      "[val2018] Tokenizing captions...\n",
      "img_ids         torch.Size([2])\n",
      "num_rounds      torch.Size([2])\n",
      "opts            torch.Size([2, 10, 100, 25])\n",
      "opts_in         torch.Size([2, 10, 100, 25])\n",
      "opts_out        torch.Size([2, 10, 100, 25])\n",
      "opts_len        torch.Size([2, 10, 100])\n",
      "opts_in_len     torch.Size([2, 10, 100])\n",
      "opts_out_len    torch.Size([2, 10, 100])\n",
      "ans             torch.Size([2, 10, 25])\n",
      "ans_in          torch.Size([2, 10, 25])\n",
      "ans_out         torch.Size([2, 10, 25])\n",
      "ans_len         torch.Size([2, 10])\n",
      "ans_in_len      torch.Size([2, 10])\n",
      "ans_out_len     torch.Size([2, 10])\n",
      "ans_ind         torch.Size([2, 10])\n",
      "gt_relevance    torch.Size([2, 100])\n",
      "round_id        torch.Size([2])\n",
      "img_feat        torch.Size([2, 36, 2048])\n",
      "ques_tokens     torch.Size([2, 10, 25])\n",
      "hist_tokens     torch.Size([2, 10, 50])\n",
      "ques_len        torch.Size([2, 10])\n",
      "hist_len        torch.Size([2, 10])\n",
      "concat_hist_tokens torch.Size([2, 10, 500])\n",
      "concat_hist_len torch.Size([2, 10])\n"
     ]
    }
   ],
   "source": [
    "run debug.py"
   ]
  },
  {
   "cell_type": "code",
   "execution_count": 2,
   "metadata": {},
   "outputs": [],
   "source": [
    "run visdial/encoders/encoder.py"
   ]
  },
  {
   "cell_type": "code",
   "execution_count": 11,
   "metadata": {},
   "outputs": [],
   "source": [
    "run visdial/decoders/decoder.py"
   ]
  },
  {
   "cell_type": "code",
   "execution_count": 4,
   "metadata": {},
   "outputs": [],
   "source": [
    "encoder = LateFusionEncoder(config)"
   ]
  },
  {
   "cell_type": "code",
   "execution_count": 12,
   "metadata": {},
   "outputs": [],
   "source": [
    "decoder = DiscriminativeDecoder(config)"
   ]
  },
  {
   "cell_type": "code",
   "execution_count": 13,
   "metadata": {},
   "outputs": [],
   "source": [
    "encoder_out = encoder(batch)"
   ]
  },
  {
   "cell_type": "code",
   "execution_count": 14,
   "metadata": {},
   "outputs": [],
   "source": [
    "scores = decoder(batch, encoder_out)"
   ]
  },
  {
   "cell_type": "code",
   "execution_count": 15,
   "metadata": {},
   "outputs": [
    {
     "data": {
      "text/plain": [
       "torch.Size([2, 10, 100])"
      ]
     },
     "execution_count": 15,
     "metadata": {},
     "output_type": "execute_result"
    }
   ],
   "source": [
    "scores.shape"
   ]
  },
  {
   "cell_type": "code",
   "execution_count": null,
   "metadata": {},
   "outputs": [],
   "source": []
  }
 ],
 "metadata": {
  "kernelspec": {
   "display_name": "Python 3",
   "language": "python",
   "name": "python3"
  },
  "language_info": {
   "codemirror_mode": {
    "name": "ipython",
    "version": 3
   },
   "file_extension": ".py",
   "mimetype": "text/x-python",
   "name": "python",
   "nbconvert_exporter": "python",
   "pygments_lexer": "ipython3",
   "version": "3.7.3"
  }
 },
 "nbformat": 4,
 "nbformat_minor": 2
}
