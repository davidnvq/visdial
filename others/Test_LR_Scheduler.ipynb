{
 "cells": [
  {
   "cell_type": "code",
   "execution_count": 2,
   "metadata": {},
   "outputs": [],
   "source": [
    "import torch\n",
    "import matplotlib.pyplot as plt\n",
    "import sys\n",
    "sys.path.append('../')"
   ]
  },
  {
   "cell_type": "code",
   "execution_count": 10,
   "metadata": {},
   "outputs": [
    {
     "name": "stdout",
     "output_type": "stream",
     "text": [
      "0.0009997664157799118\n",
      "0.001\n",
      "0.001\n",
      "0.0005\n",
      "0.0005\n",
      "0.0005\n",
      "0.00025\n",
      "0.00025\n",
      "0.000125\n",
      "0.000125\n",
      "6.25e-05\n",
      "3.125e-05\n"
     ]
    },
    {
     "data": {
      "image/png": "[encoded data removed]",
      "text/plain": [
       "<Figure size 432x288 with 1 Axes>"
      ]
     },
     "metadata": {
      "needs_background": "light"
     },
     "output_type": "display_data"
    }
   ],
   "source": [
    "from visdial.optim import Adam, LRScheduler\n",
    "\n",
    "net = torch.nn.Linear(2, 3)\n",
    "optimizer = Adam(params=net.parameters())\n",
    "\n",
    "batch_size = 32\n",
    "num_samples = 123287\n",
    "num_batches = int(num_samples/batch_size + 1) # 3853\n",
    "num_epochs = 12\n",
    "init_lr = 1e-3\n",
    "milestones = [3, 6, 8, 10, 11]\n",
    "\n",
    "cosine_scheduler = LRScheduler(optimizer,\n",
    "                           batch_size=batch_size,\n",
    "                           num_samples=num_samples,\n",
    "                           num_epochs=num_epochs,\n",
    "                           min_lr=1e-5,\n",
    "                           init_lr=init_lr,\n",
    "                           warmup_factor=0.1,\n",
    "                           warmup_epochs=1,\n",
    "                           scheduler_type='CosineLR',\n",
    "                           )\n",
    "\n",
    "cosine_step_scheduler = LRScheduler(optimizer,\n",
    "                           batch_size=batch_size,\n",
    "                           num_samples=num_samples,\n",
    "                           num_epochs=num_epochs,\n",
    "                           min_lr=1e-5,\n",
    "                           init_lr=init_lr,\n",
    "                           warmup_factor=0.1,\n",
    "                           warmup_epochs=1,\n",
    "                           scheduler_type='CosineStepLR',\n",
    "                           )\n",
    "\n",
    "linear_scheduler = LRScheduler(optimizer,\n",
    "                           batch_size=batch_size,\n",
    "                           num_samples=num_samples,\n",
    "                           num_epochs=num_epochs,\n",
    "                           min_lr=1e-5,\n",
    "                           init_lr=init_lr,\n",
    "                           warmup_factor=0.1,\n",
    "                           warmup_epochs=1,\n",
    "                           scheduler_type='LinearLR',\n",
    "                           milestone_steps=milestones,\n",
    "                           linear_gama=0.5\n",
    "                           )\n",
    "\n",
    "global_iterations = 0\n",
    "cosine_lr = []\n",
    "cosine_step_lr = []\n",
    "linear_lr = []\n",
    "\n",
    "for epoch in range(num_epochs):\n",
    "    for batch in range(num_batches):\n",
    "        cosine_lr.append(cosine_scheduler.step(global_iterations))\n",
    "        linear_lr.append(linear_scheduler.step(global_iterations))\n",
    "        cosine_step_lr.append(cosine_step_scheduler.step(global_iterations))\n",
    "        global_iterations += 1\n",
    "    print(linear_lr[-1])\n",
    "        \n",
    "plt.plot(range(len(cosine_lr)), cosine_lr)\n",
    "plt.plot(range(len(cosine_lr)), linear_lr, 'r')\n",
    "# plt.plot(range(len(cosine_step_lr)), cosine_step_lr, 'green')\n",
    "plt.show()"
   ]
  },
  {
   "cell_type": "code",
   "execution_count": 1,
   "metadata": {},
   "outputs": [
    {
     "name": "stdout",
     "output_type": "stream",
     "text": [
      "/home/quang/workspace/repos/visdial/test\n"
     ]
    }
   ],
   "source": [
    "!pwd"
   ]
  },
  {
   "cell_type": "code",
   "execution_count": null,
   "metadata": {},
   "outputs": [],
   "source": [
    "linear_lr[-1]"
   ]
  },
  {
   "cell_type": "code",
   "execution_count": null,
   "metadata": {},
   "outputs": [],
   "source": [
    "    def cosine_multi_step(self, cur_iter):\n",
    "milestones = [1, 9, 17, 25]\n",
    "        cur_epoch = int(cur_iter / self.total_iters_per_epoch)\n",
    "        for i, milestone in enumerate(milestones):\n",
    "            if cur_epoch < milestone:\n",
    "                continue\n",
    "            else:\n",
    "                return i\n",
    "                "
   ]
  },
  {
   "cell_type": "code",
   "execution_count": null,
   "metadata": {},
   "outputs": [],
   "source": [
    "milestones = [1, 9, 17, 25]\n",
    "\n",
    "def find_range(cur_epoch):\n",
    "    for i, milestone in enumerate(milestones):\n",
    "        if cur_epoch >= milestone:\n",
    "            continue\n",
    "        else:\n",
    "            return i-1, milestones[i - 1], milestones[i]"
   ]
  },
  {
   "cell_type": "code",
   "execution_count": null,
   "metadata": {},
   "outputs": [],
   "source": [
    "32"
   ]
  },
  {
   "cell_type": "code",
   "execution_count": null,
   "metadata": {},
   "outputs": [],
   "source": [
    "int(33 / 32)"
   ]
  },
  {
   "cell_type": "code",
   "execution_count": null,
   "metadata": {},
   "outputs": [],
   "source": [
    "for epoch in range(1, 33):\n",
    "    print(epoch, find_range(epoch))"
   ]
  },
  {
   "cell_type": "code",
   "execution_count": null,
   "metadata": {},
   "outputs": [],
   "source": []
  }
 ],
 "metadata": {
  "kernelspec": {
   "display_name": "Python 3",
   "language": "python",
   "name": "python3"
  },
  "language_info": {
   "codemirror_mode": {
    "name": "ipython",
    "version": 3
   },
   "file_extension": ".py",
   "mimetype": "text/x-python",
   "name": "python",
   "nbconvert_exporter": "python",
   "pygments_lexer": "ipython3",
   "version": "3.7.3"
  }
 },
 "nbformat": 4,
 "nbformat_minor": 4
}
