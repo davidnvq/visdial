{
 "cells": [
  {
   "cell_type": "markdown",
   "metadata": {},
   "source": [
    "# Get config"
   ]
  },
  {
   "cell_type": "code",
   "execution_count": 1,
   "metadata": {},
   "outputs": [
    {
     "name": "stderr",
     "output_type": "stream",
     "text": [
      "ERROR:root:File `'configs/lf_disc_config.py'` not found.\n"
     ]
    }
   ],
   "source": [
    "run configs/lf_disc_config.py"
   ]
  },
  {
   "cell_type": "code",
   "execution_count": 5,
   "metadata": {},
   "outputs": [],
   "source": [
    "from configs import get_config, get_lf_disc_lstm_config"
   ]
  },
  {
   "cell_type": "code",
   "execution_count": 6,
   "metadata": {},
   "outputs": [],
   "source": [
    "config = get_lf_disc_lstm_config()"
   ]
  },
  {
   "cell_type": "markdown",
   "metadata": {},
   "source": [
    "# Dataset "
   ]
  },
  {
   "cell_type": "code",
   "execution_count": 15,
   "metadata": {},
   "outputs": [],
   "source": [
    "from glob import glob"
   ]
  },
  {
   "cell_type": "code",
   "execution_count": 16,
   "metadata": {},
   "outputs": [
    {
     "data": {
      "text/plain": [
       "['visdial/data/readers.py',\n",
       " 'visdial/data/augment.py',\n",
       " 'visdial/data/dataset.py',\n",
       " 'visdial/data/vocabulary.py',\n",
       " 'visdial/data/__pycache__',\n",
       " 'visdial/data/__init__.py']"
      ]
     },
     "execution_count": 16,
     "metadata": {},
     "output_type": "execute_result"
    }
   ],
   "source": [
    "glob('visdial/data/*')"
   ]
  },
  {
   "cell_type": "code",
   "execution_count": 7,
   "metadata": {},
   "outputs": [],
   "source": [
    "run visdial/data/dataset.py"
   ]
  },
  {
   "cell_type": "code",
   "execution_count": 8,
   "metadata": {},
   "outputs": [
    {
     "name": "stderr",
     "output_type": "stream",
     "text": [
      "  5%|▌         | 2478/45238 [00:00<00:03, 12239.88it/s]"
     ]
    },
    {
     "name": "stdout",
     "output_type": "stream",
     "text": [
      "[val2018] Tokenizing questions...\n"
     ]
    },
    {
     "name": "stderr",
     "output_type": "stream",
     "text": [
      "100%|██████████| 45238/45238 [00:03<00:00, 12478.65it/s]\n",
      "  8%|▊         | 2628/34822 [00:00<00:02, 13193.41it/s]"
     ]
    },
    {
     "name": "stdout",
     "output_type": "stream",
     "text": [
      "[val2018] Tokenizing answers...\n"
     ]
    },
    {
     "name": "stderr",
     "output_type": "stream",
     "text": [
      "100%|██████████| 34822/34822 [00:02<00:00, 13469.13it/s]\n",
      "100%|██████████| 2064/2064 [00:00<00:00, 11011.64it/s]"
     ]
    },
    {
     "name": "stdout",
     "output_type": "stream",
     "text": [
      "[val2018] Tokenizing captions...\n"
     ]
    },
    {
     "name": "stderr",
     "output_type": "stream",
     "text": [
      "\n"
     ]
    }
   ],
   "source": [
    "dataset = VisDialDataset(config, 'train')"
   ]
  },
  {
   "cell_type": "code",
   "execution_count": 9,
   "metadata": {},
   "outputs": [],
   "source": [
    "run visdial/data/readers.py"
   ]
  },
  {
   "cell_type": "code",
   "execution_count": 12,
   "metadata": {},
   "outputs": [],
   "source": [
    "split = 'train'"
   ]
  },
  {
   "cell_type": "code",
   "execution_count": 13,
   "metadata": {},
   "outputs": [
    {
     "data": {
      "text/plain": [
       "'train'"
      ]
     },
     "execution_count": 13,
     "metadata": {},
     "output_type": "execute_result"
    }
   ],
   "source": [
    "split"
   ]
  },
  {
   "cell_type": "code",
   "execution_count": 14,
   "metadata": {},
   "outputs": [
    {
     "data": {
      "text/plain": [
       "{'path_feat_img': '/home/quanguet/datasets/visdial/features_faster_rcnn_x101_val.h5',\n",
       " 'path_json_dialogs': '/home/quanguet/datasets/visdial/visdial_1.0_val.json',\n",
       " 'path_json_word_count': '/home/quanguet/datasets/visdial/visdial_1.0_word_counts_train.json',\n",
       " 'path_json_dense_dialogs': '/home/quanguet/datasets/visdial/'}"
      ]
     },
     "execution_count": 14,
     "metadata": {},
     "output_type": "execute_result"
    }
   ],
   "source": [
    "config['dataset'][split]"
   ]
  },
  {
   "cell_type": "code",
   "execution_count": 10,
   "metadata": {},
   "outputs": [
    {
     "name": "stderr",
     "output_type": "stream",
     "text": [
      "  3%|▎         | 1285/45238 [00:00<00:03, 12846.18it/s]"
     ]
    },
    {
     "name": "stdout",
     "output_type": "stream",
     "text": [
      "[val2018] Tokenizing questions...\n"
     ]
    },
    {
     "name": "stderr",
     "output_type": "stream",
     "text": [
      "100%|██████████| 45238/45238 [00:03<00:00, 12337.09it/s]\n",
      "  3%|▎         | 1218/34822 [00:00<00:02, 12171.07it/s]"
     ]
    },
    {
     "name": "stdout",
     "output_type": "stream",
     "text": [
      "[val2018] Tokenizing answers...\n"
     ]
    },
    {
     "name": "stderr",
     "output_type": "stream",
     "text": [
      "100%|██████████| 34822/34822 [00:02<00:00, 12490.27it/s]\n",
      " 46%|████▌     | 954/2064 [00:00<00:00, 9534.24it/s]"
     ]
    },
    {
     "name": "stdout",
     "output_type": "stream",
     "text": [
      "[val2018] Tokenizing captions...\n"
     ]
    },
    {
     "name": "stderr",
     "output_type": "stream",
     "text": [
      "100%|██████████| 2064/2064 [00:00<00:00, 9786.85it/s]\n"
     ]
    }
   ],
   "source": [
    "reader = DialogsReader(config, 'train')"
   ]
  },
  {
   "cell_type": "code",
   "execution_count": 5,
   "metadata": {},
   "outputs": [],
   "source": [
    "img_ids = dataset.image_ids\n",
    "img_id = img_ids[0]"
   ]
  },
  {
   "cell_type": "code",
   "execution_count": 66,
   "metadata": {},
   "outputs": [
    {
     "data": {
      "text/plain": [
       "11322"
      ]
     },
     "execution_count": 66,
     "metadata": {},
     "output_type": "execute_result"
    }
   ],
   "source": [
    "len(dataset.tokenizer)"
   ]
  },
  {
   "cell_type": "code",
   "execution_count": 50,
   "metadata": {},
   "outputs": [],
   "source": [
    "def untokenize(ids):\n",
    "    \"ids: numpy array\"\n",
    "    tokens = \" \".join(dataset.tokenizer.convert_ids_to_tokens(ids))\n",
    "    tokens = tokens.replace('<PAD>', ' ')\n",
    "    return tokens"
   ]
  },
  {
   "cell_type": "code",
   "execution_count": 51,
   "metadata": {},
   "outputs": [
    {
     "name": "stdout",
     "output_type": "stream",
     "text": [
      "img_ids torch.Size([])\n",
      "num_rounds torch.Size([])\n",
      "opts torch.Size([10, 100, 25])\n",
      "opts_in torch.Size([10, 100, 25])\n",
      "opts_out torch.Size([10, 100, 25])\n",
      "opts_len torch.Size([10, 100])\n",
      "opts_in_len torch.Size([10, 100])\n",
      "opts_out_len torch.Size([10, 100])\n",
      "ans torch.Size([10, 25])\n",
      "ans_in torch.Size([10, 25])\n",
      "ans_out torch.Size([10, 25])\n",
      "ans_len torch.Size([10])\n",
      "ans_in_len torch.Size([10])\n",
      "ans_out_len torch.Size([10])\n",
      "ans_ind torch.Size([10])\n",
      "gt_relevance torch.Size([100])\n",
      "round_id torch.Size([])\n",
      "img_feat torch.Size([36, 2048])\n",
      "ques_tokens torch.Size([10, 25])\n",
      "hist_tokens torch.Size([10, 10, 50])\n",
      "ques_len torch.Size([10])\n",
      "hist_len torch.Size([10, 10])\n"
     ]
    }
   ],
   "source": [
    "for key in sample:\n",
    "    print(key, sample[key].shape)"
   ]
  },
  {
   "cell_type": "markdown",
   "metadata": {},
   "source": [
    "# Check answer options "
   ]
  },
  {
   "cell_type": "code",
   "execution_count": 56,
   "metadata": {},
   "outputs": [
    {
     "name": "stdout",
     "output_type": "stream",
     "text": [
      "torch.Size([10, 100])\n",
      "torch.Size([10, 100, 25])\n",
      "tensor([16, 10,  3, 13,  3,  7,  4,  4,  6,  8])\n",
      "not too old , but any time within the past thirty or so years is possible                  \n",
      "it might be , its some kind of formal event                              \n",
      "1 is young                                            \n",
      "i can not see a collar because of how the cat is laying                        \n",
      "part of it                                            \n",
      "i see no humans in the picture                                    \n",
      "yes a gas range                                          \n",
      "black brown and white                                          \n",
      "gray , black , and white                                      \n",
      "it 's blurry but like silver and bluish                                  \n"
     ]
    }
   ],
   "source": [
    "import random\n",
    "idx = random.randint(1,9)\n",
    "\n",
    "print(sample['opts_len'].shape)\n",
    "print(sample['opts'].shape)\n",
    "\n",
    "print(sample['opts_len'][idx][:10])\n",
    "for ids in sample['opts'][idx][:10]:\n",
    "    print(untokenize(ids.numpy()))"
   ]
  },
  {
   "cell_type": "code",
   "execution_count": 57,
   "metadata": {},
   "outputs": [
    {
     "name": "stdout",
     "output_type": "stream",
     "text": [
      "idx = 8\n",
      "torch.Size([10, 100])\n",
      "torch.Size([10, 100, 25])\n",
      "tensor([2, 2, 4, 3, 5, 2, 4, 5, 3, 7])\n",
      "<S> brown                                              \n",
      "<S> blue                                              \n",
      "<S> i think so                                          \n",
      "<S> not sure                                            \n",
      "<S> yes , it is                                        \n",
      "<S> 4                                              \n",
      "<S> wood and wire                                          \n",
      "<S> looks like a stone                                        \n",
      "<S> a plate                                            \n",
      "<S> black , brown , and white                                    \n"
     ]
    }
   ],
   "source": [
    "import random\n",
    "idx = random.randint(1,9)\n",
    "print('idx =',idx)\n",
    "print(sample['opts_in_len'].shape)\n",
    "print(sample['opts_in'].shape)\n",
    "\n",
    "print(sample['opts_in_len'][idx][:10])\n",
    "for ids in sample['opts_in'][idx][:10]:\n",
    "    print(untokenize(ids.numpy()))"
   ]
  },
  {
   "cell_type": "code",
   "execution_count": 58,
   "metadata": {},
   "outputs": [
    {
     "name": "stdout",
     "output_type": "stream",
     "text": [
      "idx = 5\n",
      "torch.Size([10, 100])\n",
      "torch.Size([10, 100, 25])\n",
      "tensor([2, 6, 2, 2, 2, 5, 2, 2, 3, 9])\n",
      "0 </S>                                              \n",
      "not that i can see </S>                                      \n",
      "1 </S>                                              \n",
      "red </S>                                              \n",
      "maybe </S>                                              \n",
      "yes , it is </S>                                        \n",
      "4 </S>                                              \n",
      "fairly </S>                                              \n",
      "no way </S>                                            \n",
      "no , it is lit by the sun </S>                                \n"
     ]
    }
   ],
   "source": [
    "import random\n",
    "idx = random.randint(1,9)\n",
    "print('idx =',idx)\n",
    "\n",
    "print(sample['opts_out_len'].shape)\n",
    "print(sample['opts_out'].shape)\n",
    "\n",
    "print(sample['opts_out_len'][idx][:10])\n",
    "for ids in sample['opts_out'][idx][:10]:\n",
    "    print(untokenize(ids.numpy()))"
   ]
  },
  {
   "cell_type": "markdown",
   "metadata": {},
   "source": [
    "# Check ground truth answer "
   ]
  },
  {
   "cell_type": "code",
   "execution_count": 59,
   "metadata": {},
   "outputs": [
    {
     "name": "stdout",
     "output_type": "stream",
     "text": [
      "torch.Size([10])\n",
      "torch.Size([10, 25])\n",
      "tensor([1, 1, 1, 5, 1, 1, 3, 1, 4, 1])\n",
      "yes                                                \n",
      "no                                                \n",
      "no                                                \n",
      "i do n't see windows                                        \n",
      "maybe                                                \n",
      "no                                                \n",
      "no not really                                            \n",
      "yes                                                \n",
      "cheap plastic or wood                                          \n",
      "yes                                                \n"
     ]
    }
   ],
   "source": [
    "print(sample['ans_len'].shape)\n",
    "print(sample['ans'].shape)\n",
    "\n",
    "print(sample['ans_len'])\n",
    "for ids in sample['ans']:\n",
    "    print(untokenize(ids.numpy()))"
   ]
  },
  {
   "cell_type": "code",
   "execution_count": 60,
   "metadata": {},
   "outputs": [
    {
     "name": "stdout",
     "output_type": "stream",
     "text": [
      "torch.Size([10])\n",
      "torch.Size([10, 25])\n",
      "tensor([2, 2, 2, 6, 2, 2, 4, 2, 5, 2])\n",
      "<S> yes                                              \n",
      "<S> no                                              \n",
      "<S> no                                              \n",
      "<S> i do n't see windows                                      \n",
      "<S> maybe                                              \n",
      "<S> no                                              \n",
      "<S> no not really                                          \n",
      "<S> yes                                              \n",
      "<S> cheap plastic or wood                                        \n",
      "<S> yes                                              \n"
     ]
    }
   ],
   "source": [
    "print(sample['ans_in_len'].shape)\n",
    "print(sample['ans_in'].shape)\n",
    "\n",
    "print(sample['ans_in_len'])\n",
    "for ids in sample['ans_in']:\n",
    "    print(untokenize(ids.numpy()))"
   ]
  },
  {
   "cell_type": "code",
   "execution_count": 61,
   "metadata": {},
   "outputs": [
    {
     "name": "stdout",
     "output_type": "stream",
     "text": [
      "torch.Size([10])\n",
      "torch.Size([10, 25])\n",
      "tensor([2, 2, 2, 6, 2, 2, 4, 2, 5, 2])\n",
      "yes </S>                                              \n",
      "no </S>                                              \n",
      "no </S>                                              \n",
      "i do n't see windows </S>                                      \n",
      "maybe </S>                                              \n",
      "no </S>                                              \n",
      "no not really </S>                                          \n",
      "yes </S>                                              \n",
      "cheap plastic or wood </S>                                        \n",
      "yes </S>                                              \n"
     ]
    }
   ],
   "source": [
    "print(sample['ans_out_len'].shape)\n",
    "print(sample['ans_out'].shape)\n",
    "\n",
    "print(sample['ans_out_len'])\n",
    "for ids in sample['ans_out']:\n",
    "    print(untokenize(ids.numpy()))"
   ]
  },
  {
   "cell_type": "markdown",
   "metadata": {},
   "source": [
    "# Check history "
   ]
  },
  {
   "cell_type": "code",
   "execution_count": 63,
   "metadata": {},
   "outputs": [
    {
     "name": "stdout",
     "output_type": "stream",
     "text": [
      "tensor([13.,  0.,  0.,  0.,  0.,  0.,  0.,  0.,  0.,  0.])\n",
      "1 a bedroom is filled with lots of posters and a busy computer desk                                                                          \n",
      "2                                                                                                    \n",
      "3                                                                                                    \n",
      "4                                                                                                    \n",
      "5                                                                                                    \n",
      "6                                                                                                    \n",
      "7                                                                                                    \n",
      "8                                                                                                    \n",
      "9                                                                                                    \n",
      "10                                                                                                    \n",
      "------\n",
      "tensor([13.,  7.,  0.,  0.,  0.,  0.,  0.,  0.,  0.,  0.])\n",
      "1 a bedroom is filled with lots of posters and a busy computer desk                                                                          \n",
      "2 is the photo in color ? yes                                                                                      \n",
      "3                                                                                                    \n",
      "4                                                                                                    \n",
      "5                                                                                                    \n",
      "6                                                                                                    \n",
      "7                                                                                                    \n",
      "8                                                                                                    \n",
      "9                                                                                                    \n",
      "10                                                                                                    \n",
      "------\n",
      "tensor([13.,  7.,  7.,  0.,  0.,  0.,  0.,  0.,  0.,  0.])\n",
      "1 a bedroom is filled with lots of posters and a busy computer desk                                                                          \n",
      "2 is the photo in color ? yes                                                                                      \n",
      "3 is it a professional photo ? no                                                                                      \n",
      "4                                                                                                    \n",
      "5                                                                                                    \n",
      "6                                                                                                    \n",
      "7                                                                                                    \n",
      "8                                                                                                    \n",
      "9                                                                                                    \n",
      "10                                                                                                    \n",
      "------\n",
      "tensor([13.,  7.,  7.,  6.,  0.,  0.,  0.,  0.,  0.,  0.])\n",
      "1 a bedroom is filled with lots of posters and a busy computer desk                                                                          \n",
      "2 is the photo in color ? yes                                                                                      \n",
      "3 is it a professional photo ? no                                                                                      \n",
      "4 is it well lit ? no                                                                                        \n",
      "5                                                                                                    \n",
      "6                                                                                                    \n",
      "7                                                                                                    \n",
      "8                                                                                                    \n",
      "9                                                                                                    \n",
      "10                                                                                                    \n",
      "------\n",
      "tensor([13.,  7.,  7.,  6.,  9.,  0.,  0.,  0.,  0.,  0.])\n",
      "1 a bedroom is filled with lots of posters and a busy computer desk                                                                          \n",
      "2 is the photo in color ? yes                                                                                      \n",
      "3 is it a professional photo ? no                                                                                      \n",
      "4 is it well lit ? no                                                                                        \n",
      "5 is it daytime ? i do n't see windows                                                                                  \n",
      "6                                                                                                    \n",
      "7                                                                                                    \n",
      "8                                                                                                    \n",
      "9                                                                                                    \n",
      "10                                                                                                    \n",
      "------\n",
      "tensor([13.,  7.,  7.,  6.,  9.,  9.,  0.,  0.,  0.,  0.])\n",
      "1 a bedroom is filled with lots of posters and a busy computer desk                                                                          \n",
      "2 is the photo in color ? yes                                                                                      \n",
      "3 is it a professional photo ? no                                                                                      \n",
      "4 is it well lit ? no                                                                                        \n",
      "5 is it daytime ? i do n't see windows                                                                                  \n",
      "6 does this look like an adults bedroom ? maybe                                                                                  \n",
      "7                                                                                                    \n",
      "8                                                                                                    \n",
      "9                                                                                                    \n",
      "10                                                                                                    \n",
      "------\n",
      "tensor([13.,  7.,  7.,  6.,  9.,  9.,  6.,  0.,  0.,  0.])\n",
      "1 a bedroom is filled with lots of posters and a busy computer desk                                                                          \n",
      "2 is the photo in color ? yes                                                                                      \n",
      "3 is it a professional photo ? no                                                                                      \n",
      "4 is it well lit ? no                                                                                        \n",
      "5 is it daytime ? i do n't see windows                                                                                  \n",
      "6 does this look like an adults bedroom ? maybe                                                                                  \n",
      "7 is the room clean ? no                                                                                        \n",
      "8                                                                                                    \n",
      "9                                                                                                    \n",
      "10                                                                                                    \n",
      "------\n",
      "tensor([13.,  7.,  7.,  6.,  9.,  9.,  6., 13.,  0.,  0.])\n",
      "1 a bedroom is filled with lots of posters and a busy computer desk                                                                          \n",
      "2 is the photo in color ? yes                                                                                      \n",
      "3 is it a professional photo ? no                                                                                      \n",
      "4 is it well lit ? no                                                                                        \n",
      "5 is it daytime ? i do n't see windows                                                                                  \n",
      "6 does this look like an adults bedroom ? maybe                                                                                  \n",
      "7 is the room clean ? no                                                                                        \n",
      "8 can you tell what kind of computer it is ? no not really                                                                          \n",
      "9                                                                                                    \n",
      "10                                                                                                    \n",
      "------\n",
      "tensor([13.,  7.,  7.,  6.,  9.,  9.,  6., 13.,  7.,  0.])\n",
      "1 a bedroom is filled with lots of posters and a busy computer desk                                                                          \n",
      "2 is the photo in color ? yes                                                                                      \n",
      "3 is it a professional photo ? no                                                                                      \n",
      "4 is it well lit ? no                                                                                        \n",
      "5 is it daytime ? i do n't see windows                                                                                  \n",
      "6 does this look like an adults bedroom ? maybe                                                                                  \n",
      "7 is the room clean ? no                                                                                        \n",
      "8 can you tell what kind of computer it is ? no not really                                                                          \n",
      "9 is it a flat screen ? yes                                                                                      \n",
      "10                                                                                                    \n",
      "------\n",
      "tensor([13.,  7.,  7.,  6.,  9.,  9.,  6., 13.,  7., 12.])\n",
      "1 a bedroom is filled with lots of posters and a busy computer desk                                                                          \n",
      "2 is the photo in color ? yes                                                                                      \n",
      "3 is it a professional photo ? no                                                                                      \n",
      "4 is it well lit ? no                                                                                        \n",
      "5 is it daytime ? i do n't see windows                                                                                  \n",
      "6 does this look like an adults bedroom ? maybe                                                                                  \n",
      "7 is the room clean ? no                                                                                        \n",
      "8 can you tell what kind of computer it is ? no not really                                                                          \n",
      "9 is it a flat screen ? yes                                                                                      \n",
      "10 what 's the desk made out of ? cheap plastic or wood                                                                            \n",
      "------\n"
     ]
    }
   ],
   "source": [
    "for hist_id in range(10):\n",
    "    print(sample['hist_len'][hist_id])\n",
    "    for i, ids in enumerate(sample['hist_tokens'][hist_id]):\n",
    "        print(i + 1, untokenize(ids.numpy()))\n",
    "    print(\"------\")"
   ]
  },
  {
   "cell_type": "markdown",
   "metadata": {},
   "source": [
    "# Check questions"
   ]
  },
  {
   "cell_type": "code",
   "execution_count": 64,
   "metadata": {},
   "outputs": [
    {
     "name": "stdout",
     "output_type": "stream",
     "text": [
      "torch.Size([10, 25])\n",
      "is the photo in color ?                                      \n",
      "is it a professional photo ?                                      \n",
      "is it well lit ?                                        \n",
      "is it daytime ?                                          \n",
      "does this look like an adults bedroom ?                                  \n",
      "is the room clean ?                                        \n",
      "can you tell what kind of computer it is ?                              \n",
      "is it a flat screen ?                                      \n",
      "what 's the desk made out of ?                                  \n",
      "is there a computer chair ?                                      \n"
     ]
    }
   ],
   "source": [
    "print(sample['ques_tokens'].shape)\n",
    "for ques in sample['ques_tokens']:\n",
    "    print(untokenize(ques.numpy()))"
   ]
  },
  {
   "cell_type": "code",
   "execution_count": 68,
   "metadata": {},
   "outputs": [
    {
     "data": {
      "text/plain": [
       "torch.Size([10, 25])"
      ]
     },
     "execution_count": 68,
     "metadata": {},
     "output_type": "execute_result"
    }
   ],
   "source": [
    "sample['ques_tokens'].shape"
   ]
  },
  {
   "cell_type": "code",
   "execution_count": 69,
   "metadata": {},
   "outputs": [
    {
     "data": {
      "text/plain": [
       "tensor([ 6,  6,  5,  4,  8,  5, 10,  6,  8,  6])"
      ]
     },
     "execution_count": 69,
     "metadata": {},
     "output_type": "execute_result"
    }
   ],
   "source": [
    "sample['ques_len']"
   ]
  },
  {
   "cell_type": "code",
   "execution_count": 70,
   "metadata": {},
   "outputs": [
    {
     "ename": "TypeError",
     "evalue": "arange(): argument 'end' (position 1) must be Number, not Tensor",
     "output_type": "error",
     "traceback": [
      "\u001b[0;31m---------------------------------------------------------------------------\u001b[0m",
      "\u001b[0;31mTypeError\u001b[0m                                 Traceback (most recent call last)",
      "\u001b[0;32m<ipython-input-70-d22aea67520f>\u001b[0m in \u001b[0;36m<module>\u001b[0;34m\u001b[0m\n\u001b[0;32m----> 1\u001b[0;31m \u001b[0mtorch\u001b[0m\u001b[0;34m.\u001b[0m\u001b[0marange\u001b[0m\u001b[0;34m(\u001b[0m\u001b[0msample\u001b[0m\u001b[0;34m[\u001b[0m\u001b[0;34m'ques_len'\u001b[0m\u001b[0;34m]\u001b[0m\u001b[0;34m)\u001b[0m\u001b[0;34m[\u001b[0m\u001b[0;32mNone\u001b[0m\u001b[0;34m,\u001b[0m \u001b[0;34m:\u001b[0m\u001b[0;34m]\u001b[0m \u001b[0;34m<\u001b[0m \u001b[0mlens\u001b[0m\u001b[0;34m[\u001b[0m\u001b[0;34m:\u001b[0m\u001b[0;34m,\u001b[0m \u001b[0;32mNone\u001b[0m\u001b[0;34m]\u001b[0m\u001b[0;34m\u001b[0m\u001b[0;34m\u001b[0m\u001b[0m\n\u001b[0m",
      "\u001b[0;31mTypeError\u001b[0m: arange(): argument 'end' (position 1) must be Number, not Tensor"
     ]
    }
   ],
   "source": [
    "torch.arange(sample['ques_len'])[None, :] < lens[:, None]"
   ]
  },
  {
   "cell_type": "code",
   "execution_count": 77,
   "metadata": {},
   "outputs": [],
   "source": [
    "max_len = config['dataset']['max_seq_len']\n",
    "\n",
    "ques_mask = torch.arange(max_len).expand(10, max_len) < sample['ques_len'].unsqueeze(1)"
   ]
  },
  {
   "cell_type": "code",
   "execution_count": 79,
   "metadata": {},
   "outputs": [],
   "source": [
    "import torch.nn as nn"
   ]
  },
  {
   "cell_type": "code",
   "execution_count": 90,
   "metadata": {},
   "outputs": [
    {
     "data": {
      "text/plain": [
       "torch.Size([1, 1, 10, 25, 300])"
      ]
     },
     "execution_count": 90,
     "metadata": {},
     "output_type": "execute_result"
    }
   ],
   "source": [
    "nn.Embedding(11322, 300)(sample['ques_tokens'].unsqueeze(0).unsqueeze(0)).shape"
   ]
  },
  {
   "cell_type": "code",
   "execution_count": 87,
   "metadata": {},
   "outputs": [
    {
     "data": {
      "text/plain": [
       "tensor([[[[ 2.4683, -2.6338,  0.0755,  ...,  0.9948,  0.4302, -0.9629],\n",
       "          [-0.2713, -0.4015, -0.7374,  ..., -1.4742, -1.6325,  1.0094],\n",
       "          [-1.8145,  0.9618,  1.4725,  ..., -0.3751,  1.3166,  0.8320],\n",
       "          ...,\n",
       "          [ 0.3491,  0.4476, -0.5386,  ..., -0.3255,  0.3490, -0.9946],\n",
       "          [ 0.3491,  0.4476, -0.5386,  ..., -0.3255,  0.3490, -0.9946],\n",
       "          [ 0.3491,  0.4476, -0.5386,  ..., -0.3255,  0.3490, -0.9946]],\n",
       "\n",
       "         [[ 0.3491,  0.4476, -0.5386,  ..., -0.3255,  0.3490, -0.9946],\n",
       "          [ 0.3491,  0.4476, -0.5386,  ..., -0.3255,  0.3490, -0.9946],\n",
       "          [ 0.3491,  0.4476, -0.5386,  ..., -0.3255,  0.3490, -0.9946],\n",
       "          ...,\n",
       "          [ 0.3491,  0.4476, -0.5386,  ..., -0.3255,  0.3490, -0.9946],\n",
       "          [ 0.3491,  0.4476, -0.5386,  ..., -0.3255,  0.3490, -0.9946],\n",
       "          [ 0.3491,  0.4476, -0.5386,  ..., -0.3255,  0.3490, -0.9946]],\n",
       "\n",
       "         [[ 0.3491,  0.4476, -0.5386,  ..., -0.3255,  0.3490, -0.9946],\n",
       "          [ 0.3491,  0.4476, -0.5386,  ..., -0.3255,  0.3490, -0.9946],\n",
       "          [ 0.3491,  0.4476, -0.5386,  ..., -0.3255,  0.3490, -0.9946],\n",
       "          ...,\n",
       "          [ 0.3491,  0.4476, -0.5386,  ..., -0.3255,  0.3490, -0.9946],\n",
       "          [ 0.3491,  0.4476, -0.5386,  ..., -0.3255,  0.3490, -0.9946],\n",
       "          [ 0.3491,  0.4476, -0.5386,  ..., -0.3255,  0.3490, -0.9946]],\n",
       "\n",
       "         ...,\n",
       "\n",
       "         [[ 0.3491,  0.4476, -0.5386,  ..., -0.3255,  0.3490, -0.9946],\n",
       "          [ 0.3491,  0.4476, -0.5386,  ..., -0.3255,  0.3490, -0.9946],\n",
       "          [ 0.3491,  0.4476, -0.5386,  ..., -0.3255,  0.3490, -0.9946],\n",
       "          ...,\n",
       "          [ 0.3491,  0.4476, -0.5386,  ..., -0.3255,  0.3490, -0.9946],\n",
       "          [ 0.3491,  0.4476, -0.5386,  ..., -0.3255,  0.3490, -0.9946],\n",
       "          [ 0.3491,  0.4476, -0.5386,  ..., -0.3255,  0.3490, -0.9946]],\n",
       "\n",
       "         [[ 0.3491,  0.4476, -0.5386,  ..., -0.3255,  0.3490, -0.9946],\n",
       "          [ 0.3491,  0.4476, -0.5386,  ..., -0.3255,  0.3490, -0.9946],\n",
       "          [ 0.3491,  0.4476, -0.5386,  ..., -0.3255,  0.3490, -0.9946],\n",
       "          ...,\n",
       "          [ 0.3491,  0.4476, -0.5386,  ..., -0.3255,  0.3490, -0.9946],\n",
       "          [ 0.3491,  0.4476, -0.5386,  ..., -0.3255,  0.3490, -0.9946],\n",
       "          [ 0.3491,  0.4476, -0.5386,  ..., -0.3255,  0.3490, -0.9946]],\n",
       "\n",
       "         [[ 0.3491,  0.4476, -0.5386,  ..., -0.3255,  0.3490, -0.9946],\n",
       "          [ 0.3491,  0.4476, -0.5386,  ..., -0.3255,  0.3490, -0.9946],\n",
       "          [ 0.3491,  0.4476, -0.5386,  ..., -0.3255,  0.3490, -0.9946],\n",
       "          ...,\n",
       "          [ 0.3491,  0.4476, -0.5386,  ..., -0.3255,  0.3490, -0.9946],\n",
       "          [ 0.3491,  0.4476, -0.5386,  ..., -0.3255,  0.3490, -0.9946],\n",
       "          [ 0.3491,  0.4476, -0.5386,  ..., -0.3255,  0.3490, -0.9946]]],\n",
       "\n",
       "\n",
       "        [[[ 2.4683, -2.6338,  0.0755,  ...,  0.9948,  0.4302, -0.9629],\n",
       "          [-0.2713, -0.4015, -0.7374,  ..., -1.4742, -1.6325,  1.0094],\n",
       "          [-1.8145,  0.9618,  1.4725,  ..., -0.3751,  1.3166,  0.8320],\n",
       "          ...,\n",
       "          [ 0.3491,  0.4476, -0.5386,  ..., -0.3255,  0.3490, -0.9946],\n",
       "          [ 0.3491,  0.4476, -0.5386,  ..., -0.3255,  0.3490, -0.9946],\n",
       "          [ 0.3491,  0.4476, -0.5386,  ..., -0.3255,  0.3490, -0.9946]],\n",
       "\n",
       "         [[-1.8145,  0.9618,  1.4725,  ..., -0.3751,  1.3166,  0.8320],\n",
       "          [-0.7216,  0.6221, -0.3612,  ...,  0.8439, -0.9455,  0.4897],\n",
       "          [ 1.0375, -0.6579, -0.5145,  ...,  0.5906, -0.6330, -0.1238],\n",
       "          ...,\n",
       "          [ 0.3491,  0.4476, -0.5386,  ..., -0.3255,  0.3490, -0.9946],\n",
       "          [ 0.3491,  0.4476, -0.5386,  ..., -0.3255,  0.3490, -0.9946],\n",
       "          [ 0.3491,  0.4476, -0.5386,  ..., -0.3255,  0.3490, -0.9946]],\n",
       "\n",
       "         [[ 0.3491,  0.4476, -0.5386,  ..., -0.3255,  0.3490, -0.9946],\n",
       "          [ 0.3491,  0.4476, -0.5386,  ..., -0.3255,  0.3490, -0.9946],\n",
       "          [ 0.3491,  0.4476, -0.5386,  ..., -0.3255,  0.3490, -0.9946],\n",
       "          ...,\n",
       "          [ 0.3491,  0.4476, -0.5386,  ..., -0.3255,  0.3490, -0.9946],\n",
       "          [ 0.3491,  0.4476, -0.5386,  ..., -0.3255,  0.3490, -0.9946],\n",
       "          [ 0.3491,  0.4476, -0.5386,  ..., -0.3255,  0.3490, -0.9946]],\n",
       "\n",
       "         ...,\n",
       "\n",
       "         [[ 0.3491,  0.4476, -0.5386,  ..., -0.3255,  0.3490, -0.9946],\n",
       "          [ 0.3491,  0.4476, -0.5386,  ..., -0.3255,  0.3490, -0.9946],\n",
       "          [ 0.3491,  0.4476, -0.5386,  ..., -0.3255,  0.3490, -0.9946],\n",
       "          ...,\n",
       "          [ 0.3491,  0.4476, -0.5386,  ..., -0.3255,  0.3490, -0.9946],\n",
       "          [ 0.3491,  0.4476, -0.5386,  ..., -0.3255,  0.3490, -0.9946],\n",
       "          [ 0.3491,  0.4476, -0.5386,  ..., -0.3255,  0.3490, -0.9946]],\n",
       "\n",
       "         [[ 0.3491,  0.4476, -0.5386,  ..., -0.3255,  0.3490, -0.9946],\n",
       "          [ 0.3491,  0.4476, -0.5386,  ..., -0.3255,  0.3490, -0.9946],\n",
       "          [ 0.3491,  0.4476, -0.5386,  ..., -0.3255,  0.3490, -0.9946],\n",
       "          ...,\n",
       "          [ 0.3491,  0.4476, -0.5386,  ..., -0.3255,  0.3490, -0.9946],\n",
       "          [ 0.3491,  0.4476, -0.5386,  ..., -0.3255,  0.3490, -0.9946],\n",
       "          [ 0.3491,  0.4476, -0.5386,  ..., -0.3255,  0.3490, -0.9946]],\n",
       "\n",
       "         [[ 0.3491,  0.4476, -0.5386,  ..., -0.3255,  0.3490, -0.9946],\n",
       "          [ 0.3491,  0.4476, -0.5386,  ..., -0.3255,  0.3490, -0.9946],\n",
       "          [ 0.3491,  0.4476, -0.5386,  ..., -0.3255,  0.3490, -0.9946],\n",
       "          ...,\n",
       "          [ 0.3491,  0.4476, -0.5386,  ..., -0.3255,  0.3490, -0.9946],\n",
       "          [ 0.3491,  0.4476, -0.5386,  ..., -0.3255,  0.3490, -0.9946],\n",
       "          [ 0.3491,  0.4476, -0.5386,  ..., -0.3255,  0.3490, -0.9946]]],\n",
       "\n",
       "\n",
       "        [[[ 2.4683, -2.6338,  0.0755,  ...,  0.9948,  0.4302, -0.9629],\n",
       "          [-0.2713, -0.4015, -0.7374,  ..., -1.4742, -1.6325,  1.0094],\n",
       "          [-1.8145,  0.9618,  1.4725,  ..., -0.3751,  1.3166,  0.8320],\n",
       "          ...,\n",
       "          [ 0.3491,  0.4476, -0.5386,  ..., -0.3255,  0.3490, -0.9946],\n",
       "          [ 0.3491,  0.4476, -0.5386,  ..., -0.3255,  0.3490, -0.9946],\n",
       "          [ 0.3491,  0.4476, -0.5386,  ..., -0.3255,  0.3490, -0.9946]],\n",
       "\n",
       "         [[-1.8145,  0.9618,  1.4725,  ..., -0.3751,  1.3166,  0.8320],\n",
       "          [-0.7216,  0.6221, -0.3612,  ...,  0.8439, -0.9455,  0.4897],\n",
       "          [ 1.0375, -0.6579, -0.5145,  ...,  0.5906, -0.6330, -0.1238],\n",
       "          ...,\n",
       "          [ 0.3491,  0.4476, -0.5386,  ..., -0.3255,  0.3490, -0.9946],\n",
       "          [ 0.3491,  0.4476, -0.5386,  ..., -0.3255,  0.3490, -0.9946],\n",
       "          [ 0.3491,  0.4476, -0.5386,  ..., -0.3255,  0.3490, -0.9946]],\n",
       "\n",
       "         [[-1.8145,  0.9618,  1.4725,  ..., -0.3751,  1.3166,  0.8320],\n",
       "          [ 0.0469, -0.2102,  1.5202,  ..., -1.1956,  1.6661,  0.9446],\n",
       "          [ 2.4683, -2.6338,  0.0755,  ...,  0.9948,  0.4302, -0.9629],\n",
       "          ...,\n",
       "          [ 0.3491,  0.4476, -0.5386,  ..., -0.3255,  0.3490, -0.9946],\n",
       "          [ 0.3491,  0.4476, -0.5386,  ..., -0.3255,  0.3490, -0.9946],\n",
       "          [ 0.3491,  0.4476, -0.5386,  ..., -0.3255,  0.3490, -0.9946]],\n",
       "\n",
       "         ...,\n",
       "\n",
       "         [[ 0.3491,  0.4476, -0.5386,  ..., -0.3255,  0.3490, -0.9946],\n",
       "          [ 0.3491,  0.4476, -0.5386,  ..., -0.3255,  0.3490, -0.9946],\n",
       "          [ 0.3491,  0.4476, -0.5386,  ..., -0.3255,  0.3490, -0.9946],\n",
       "          ...,\n",
       "          [ 0.3491,  0.4476, -0.5386,  ..., -0.3255,  0.3490, -0.9946],\n",
       "          [ 0.3491,  0.4476, -0.5386,  ..., -0.3255,  0.3490, -0.9946],\n",
       "          [ 0.3491,  0.4476, -0.5386,  ..., -0.3255,  0.3490, -0.9946]],\n",
       "\n",
       "         [[ 0.3491,  0.4476, -0.5386,  ..., -0.3255,  0.3490, -0.9946],\n",
       "          [ 0.3491,  0.4476, -0.5386,  ..., -0.3255,  0.3490, -0.9946],\n",
       "          [ 0.3491,  0.4476, -0.5386,  ..., -0.3255,  0.3490, -0.9946],\n",
       "          ...,\n",
       "          [ 0.3491,  0.4476, -0.5386,  ..., -0.3255,  0.3490, -0.9946],\n",
       "          [ 0.3491,  0.4476, -0.5386,  ..., -0.3255,  0.3490, -0.9946],\n",
       "          [ 0.3491,  0.4476, -0.5386,  ..., -0.3255,  0.3490, -0.9946]],\n",
       "\n",
       "         [[ 0.3491,  0.4476, -0.5386,  ..., -0.3255,  0.3490, -0.9946],\n",
       "          [ 0.3491,  0.4476, -0.5386,  ..., -0.3255,  0.3490, -0.9946],\n",
       "          [ 0.3491,  0.4476, -0.5386,  ..., -0.3255,  0.3490, -0.9946],\n",
       "          ...,\n",
       "          [ 0.3491,  0.4476, -0.5386,  ..., -0.3255,  0.3490, -0.9946],\n",
       "          [ 0.3491,  0.4476, -0.5386,  ..., -0.3255,  0.3490, -0.9946],\n",
       "          [ 0.3491,  0.4476, -0.5386,  ..., -0.3255,  0.3490, -0.9946]]],\n",
       "\n",
       "\n",
       "        ...,\n",
       "\n",
       "\n",
       "        [[[ 2.4683, -2.6338,  0.0755,  ...,  0.9948,  0.4302, -0.9629],\n",
       "          [-0.2713, -0.4015, -0.7374,  ..., -1.4742, -1.6325,  1.0094],\n",
       "          [-1.8145,  0.9618,  1.4725,  ..., -0.3751,  1.3166,  0.8320],\n",
       "          ...,\n",
       "          [ 0.3491,  0.4476, -0.5386,  ..., -0.3255,  0.3490, -0.9946],\n",
       "          [ 0.3491,  0.4476, -0.5386,  ..., -0.3255,  0.3490, -0.9946],\n",
       "          [ 0.3491,  0.4476, -0.5386,  ..., -0.3255,  0.3490, -0.9946]],\n",
       "\n",
       "         [[-1.8145,  0.9618,  1.4725,  ..., -0.3751,  1.3166,  0.8320],\n",
       "          [-0.7216,  0.6221, -0.3612,  ...,  0.8439, -0.9455,  0.4897],\n",
       "          [ 1.0375, -0.6579, -0.5145,  ...,  0.5906, -0.6330, -0.1238],\n",
       "          ...,\n",
       "          [ 0.3491,  0.4476, -0.5386,  ..., -0.3255,  0.3490, -0.9946],\n",
       "          [ 0.3491,  0.4476, -0.5386,  ..., -0.3255,  0.3490, -0.9946],\n",
       "          [ 0.3491,  0.4476, -0.5386,  ..., -0.3255,  0.3490, -0.9946]],\n",
       "\n",
       "         [[-1.8145,  0.9618,  1.4725,  ..., -0.3751,  1.3166,  0.8320],\n",
       "          [ 0.0469, -0.2102,  1.5202,  ..., -1.1956,  1.6661,  0.9446],\n",
       "          [ 2.4683, -2.6338,  0.0755,  ...,  0.9948,  0.4302, -0.9629],\n",
       "          ...,\n",
       "          [ 0.3491,  0.4476, -0.5386,  ..., -0.3255,  0.3490, -0.9946],\n",
       "          [ 0.3491,  0.4476, -0.5386,  ..., -0.3255,  0.3490, -0.9946],\n",
       "          [ 0.3491,  0.4476, -0.5386,  ..., -0.3255,  0.3490, -0.9946]],\n",
       "\n",
       "         ...,\n",
       "\n",
       "         [[-0.4452, -0.2885,  1.1066,  ...,  0.0545, -1.4397,  0.9125],\n",
       "          [ 0.3334, -0.0621, -0.4632,  ...,  1.1235, -0.1713,  0.5352],\n",
       "          [ 0.8804,  2.6964,  0.6879,  ...,  1.2971, -1.1935,  0.2071],\n",
       "          ...,\n",
       "          [ 0.3491,  0.4476, -0.5386,  ..., -0.3255,  0.3490, -0.9946],\n",
       "          [ 0.3491,  0.4476, -0.5386,  ..., -0.3255,  0.3490, -0.9946],\n",
       "          [ 0.3491,  0.4476, -0.5386,  ..., -0.3255,  0.3490, -0.9946]],\n",
       "\n",
       "         [[ 0.3491,  0.4476, -0.5386,  ..., -0.3255,  0.3490, -0.9946],\n",
       "          [ 0.3491,  0.4476, -0.5386,  ..., -0.3255,  0.3490, -0.9946],\n",
       "          [ 0.3491,  0.4476, -0.5386,  ..., -0.3255,  0.3490, -0.9946],\n",
       "          ...,\n",
       "          [ 0.3491,  0.4476, -0.5386,  ..., -0.3255,  0.3490, -0.9946],\n",
       "          [ 0.3491,  0.4476, -0.5386,  ..., -0.3255,  0.3490, -0.9946],\n",
       "          [ 0.3491,  0.4476, -0.5386,  ..., -0.3255,  0.3490, -0.9946]],\n",
       "\n",
       "         [[ 0.3491,  0.4476, -0.5386,  ..., -0.3255,  0.3490, -0.9946],\n",
       "          [ 0.3491,  0.4476, -0.5386,  ..., -0.3255,  0.3490, -0.9946],\n",
       "          [ 0.3491,  0.4476, -0.5386,  ..., -0.3255,  0.3490, -0.9946],\n",
       "          ...,\n",
       "          [ 0.3491,  0.4476, -0.5386,  ..., -0.3255,  0.3490, -0.9946],\n",
       "          [ 0.3491,  0.4476, -0.5386,  ..., -0.3255,  0.3490, -0.9946],\n",
       "          [ 0.3491,  0.4476, -0.5386,  ..., -0.3255,  0.3490, -0.9946]]],\n",
       "\n",
       "\n",
       "        [[[ 2.4683, -2.6338,  0.0755,  ...,  0.9948,  0.4302, -0.9629],\n",
       "          [-0.2713, -0.4015, -0.7374,  ..., -1.4742, -1.6325,  1.0094],\n",
       "          [-1.8145,  0.9618,  1.4725,  ..., -0.3751,  1.3166,  0.8320],\n",
       "          ...,\n",
       "          [ 0.3491,  0.4476, -0.5386,  ..., -0.3255,  0.3490, -0.9946],\n",
       "          [ 0.3491,  0.4476, -0.5386,  ..., -0.3255,  0.3490, -0.9946],\n",
       "          [ 0.3491,  0.4476, -0.5386,  ..., -0.3255,  0.3490, -0.9946]],\n",
       "\n",
       "         [[-1.8145,  0.9618,  1.4725,  ..., -0.3751,  1.3166,  0.8320],\n",
       "          [-0.7216,  0.6221, -0.3612,  ...,  0.8439, -0.9455,  0.4897],\n",
       "          [ 1.0375, -0.6579, -0.5145,  ...,  0.5906, -0.6330, -0.1238],\n",
       "          ...,\n",
       "          [ 0.3491,  0.4476, -0.5386,  ..., -0.3255,  0.3490, -0.9946],\n",
       "          [ 0.3491,  0.4476, -0.5386,  ..., -0.3255,  0.3490, -0.9946],\n",
       "          [ 0.3491,  0.4476, -0.5386,  ..., -0.3255,  0.3490, -0.9946]],\n",
       "\n",
       "         [[-1.8145,  0.9618,  1.4725,  ..., -0.3751,  1.3166,  0.8320],\n",
       "          [ 0.0469, -0.2102,  1.5202,  ..., -1.1956,  1.6661,  0.9446],\n",
       "          [ 2.4683, -2.6338,  0.0755,  ...,  0.9948,  0.4302, -0.9629],\n",
       "          ...,\n",
       "          [ 0.3491,  0.4476, -0.5386,  ..., -0.3255,  0.3490, -0.9946],\n",
       "          [ 0.3491,  0.4476, -0.5386,  ..., -0.3255,  0.3490, -0.9946],\n",
       "          [ 0.3491,  0.4476, -0.5386,  ..., -0.3255,  0.3490, -0.9946]],\n",
       "\n",
       "         ...,\n",
       "\n",
       "         [[-0.4452, -0.2885,  1.1066,  ...,  0.0545, -1.4397,  0.9125],\n",
       "          [ 0.3334, -0.0621, -0.4632,  ...,  1.1235, -0.1713,  0.5352],\n",
       "          [ 0.8804,  2.6964,  0.6879,  ...,  1.2971, -1.1935,  0.2071],\n",
       "          ...,\n",
       "          [ 0.3491,  0.4476, -0.5386,  ..., -0.3255,  0.3490, -0.9946],\n",
       "          [ 0.3491,  0.4476, -0.5386,  ..., -0.3255,  0.3490, -0.9946],\n",
       "          [ 0.3491,  0.4476, -0.5386,  ..., -0.3255,  0.3490, -0.9946]],\n",
       "\n",
       "         [[-1.8145,  0.9618,  1.4725,  ..., -0.3751,  1.3166,  0.8320],\n",
       "          [ 0.0469, -0.2102,  1.5202,  ..., -1.1956,  1.6661,  0.9446],\n",
       "          [ 2.4683, -2.6338,  0.0755,  ...,  0.9948,  0.4302, -0.9629],\n",
       "          ...,\n",
       "          [ 0.3491,  0.4476, -0.5386,  ..., -0.3255,  0.3490, -0.9946],\n",
       "          [ 0.3491,  0.4476, -0.5386,  ..., -0.3255,  0.3490, -0.9946],\n",
       "          [ 0.3491,  0.4476, -0.5386,  ..., -0.3255,  0.3490, -0.9946]],\n",
       "\n",
       "         [[ 0.3491,  0.4476, -0.5386,  ..., -0.3255,  0.3490, -0.9946],\n",
       "          [ 0.3491,  0.4476, -0.5386,  ..., -0.3255,  0.3490, -0.9946],\n",
       "          [ 0.3491,  0.4476, -0.5386,  ..., -0.3255,  0.3490, -0.9946],\n",
       "          ...,\n",
       "          [ 0.3491,  0.4476, -0.5386,  ..., -0.3255,  0.3490, -0.9946],\n",
       "          [ 0.3491,  0.4476, -0.5386,  ..., -0.3255,  0.3490, -0.9946],\n",
       "          [ 0.3491,  0.4476, -0.5386,  ..., -0.3255,  0.3490, -0.9946]]],\n",
       "\n",
       "\n",
       "        [[[ 2.4683, -2.6338,  0.0755,  ...,  0.9948,  0.4302, -0.9629],\n",
       "          [-0.2713, -0.4015, -0.7374,  ..., -1.4742, -1.6325,  1.0094],\n",
       "          [-1.8145,  0.9618,  1.4725,  ..., -0.3751,  1.3166,  0.8320],\n",
       "          ...,\n",
       "          [ 0.3491,  0.4476, -0.5386,  ..., -0.3255,  0.3490, -0.9946],\n",
       "          [ 0.3491,  0.4476, -0.5386,  ..., -0.3255,  0.3490, -0.9946],\n",
       "          [ 0.3491,  0.4476, -0.5386,  ..., -0.3255,  0.3490, -0.9946]],\n",
       "\n",
       "         [[-1.8145,  0.9618,  1.4725,  ..., -0.3751,  1.3166,  0.8320],\n",
       "          [-0.7216,  0.6221, -0.3612,  ...,  0.8439, -0.9455,  0.4897],\n",
       "          [ 1.0375, -0.6579, -0.5145,  ...,  0.5906, -0.6330, -0.1238],\n",
       "          ...,\n",
       "          [ 0.3491,  0.4476, -0.5386,  ..., -0.3255,  0.3490, -0.9946],\n",
       "          [ 0.3491,  0.4476, -0.5386,  ..., -0.3255,  0.3490, -0.9946],\n",
       "          [ 0.3491,  0.4476, -0.5386,  ..., -0.3255,  0.3490, -0.9946]],\n",
       "\n",
       "         [[-1.8145,  0.9618,  1.4725,  ..., -0.3751,  1.3166,  0.8320],\n",
       "          [ 0.0469, -0.2102,  1.5202,  ..., -1.1956,  1.6661,  0.9446],\n",
       "          [ 2.4683, -2.6338,  0.0755,  ...,  0.9948,  0.4302, -0.9629],\n",
       "          ...,\n",
       "          [ 0.3491,  0.4476, -0.5386,  ..., -0.3255,  0.3490, -0.9946],\n",
       "          [ 0.3491,  0.4476, -0.5386,  ..., -0.3255,  0.3490, -0.9946],\n",
       "          [ 0.3491,  0.4476, -0.5386,  ..., -0.3255,  0.3490, -0.9946]],\n",
       "\n",
       "         ...,\n",
       "\n",
       "         [[-0.4452, -0.2885,  1.1066,  ...,  0.0545, -1.4397,  0.9125],\n",
       "          [ 0.3334, -0.0621, -0.4632,  ...,  1.1235, -0.1713,  0.5352],\n",
       "          [ 0.8804,  2.6964,  0.6879,  ...,  1.2971, -1.1935,  0.2071],\n",
       "          ...,\n",
       "          [ 0.3491,  0.4476, -0.5386,  ..., -0.3255,  0.3490, -0.9946],\n",
       "          [ 0.3491,  0.4476, -0.5386,  ..., -0.3255,  0.3490, -0.9946],\n",
       "          [ 0.3491,  0.4476, -0.5386,  ..., -0.3255,  0.3490, -0.9946]],\n",
       "\n",
       "         [[-1.8145,  0.9618,  1.4725,  ..., -0.3751,  1.3166,  0.8320],\n",
       "          [ 0.0469, -0.2102,  1.5202,  ..., -1.1956,  1.6661,  0.9446],\n",
       "          [ 2.4683, -2.6338,  0.0755,  ...,  0.9948,  0.4302, -0.9629],\n",
       "          ...,\n",
       "          [ 0.3491,  0.4476, -0.5386,  ..., -0.3255,  0.3490, -0.9946],\n",
       "          [ 0.3491,  0.4476, -0.5386,  ..., -0.3255,  0.3490, -0.9946],\n",
       "          [ 0.3491,  0.4476, -0.5386,  ..., -0.3255,  0.3490, -0.9946]],\n",
       "\n",
       "         [[ 0.5260, -0.4840, -0.1890,  ...,  0.1089,  0.3648,  0.9998],\n",
       "          [ 1.0302, -1.9991, -0.3213,  ...,  1.0666,  1.1782, -0.4095],\n",
       "          [-0.7216,  0.6221, -0.3612,  ...,  0.8439, -0.9455,  0.4897],\n",
       "          ...,\n",
       "          [ 0.3491,  0.4476, -0.5386,  ..., -0.3255,  0.3490, -0.9946],\n",
       "          [ 0.3491,  0.4476, -0.5386,  ..., -0.3255,  0.3490, -0.9946],\n",
       "          [ 0.3491,  0.4476, -0.5386,  ..., -0.3255,  0.3490, -0.9946]]]],\n",
       "       grad_fn=<SelectBackward>)"
      ]
     },
     "execution_count": 87,
     "metadata": {},
     "output_type": "execute_result"
    }
   ],
   "source": [
    "nn.Embedding(11322, 300)(sample['hist_tokens'].long().unsqueeze(0))[0]"
   ]
  },
  {
   "cell_type": "code",
   "execution_count": 100,
   "metadata": {},
   "outputs": [
    {
     "data": {
      "text/plain": [
       "tensor([[1, 1, 1],\n",
       "        [1, 1, 1]], device='cuda:0')"
      ]
     },
     "execution_count": 100,
     "metadata": {},
     "output_type": "execute_result"
    }
   ],
   "source": [
    "x = torch.randn((1, 2, 3), device='cuda:0')\n",
    "x.new_ones((2, 3), dtype=torch.long)"
   ]
  },
  {
   "cell_type": "code",
   "execution_count": 93,
   "metadata": {},
   "outputs": [
    {
     "ename": "AttributeError",
     "evalue": "'tuple' object has no attribute 'shape'",
     "output_type": "error",
     "traceback": [
      "\u001b[0;31m---------------------------------------------------------------------------\u001b[0m",
      "\u001b[0;31mAttributeError\u001b[0m                            Traceback (most recent call last)",
      "\u001b[0;32m<ipython-input-93-39a2ae2c4bdc>\u001b[0m in \u001b[0;36m<module>\u001b[0;34m\u001b[0m\n\u001b[0;32m----> 1\u001b[0;31m \u001b[0mnn\u001b[0m\u001b[0;34m.\u001b[0m\u001b[0mLSTM\u001b[0m\u001b[0;34m(\u001b[0m\u001b[0;36m100\u001b[0m\u001b[0;34m,\u001b[0m \u001b[0;36m100\u001b[0m\u001b[0;34m)\u001b[0m\u001b[0;34m(\u001b[0m\u001b[0mtorch\u001b[0m\u001b[0;34m.\u001b[0m\u001b[0mrandn\u001b[0m\u001b[0;34m(\u001b[0m\u001b[0;36m1\u001b[0m\u001b[0;34m*\u001b[0m\u001b[0;36m2\u001b[0m\u001b[0;34m,\u001b[0m \u001b[0;36m3\u001b[0m\u001b[0;34m,\u001b[0m \u001b[0;36m100\u001b[0m\u001b[0;34m)\u001b[0m\u001b[0;34m)\u001b[0m\u001b[0;34m.\u001b[0m\u001b[0mshape\u001b[0m\u001b[0;34m\u001b[0m\u001b[0;34m\u001b[0m\u001b[0m\n\u001b[0m",
      "\u001b[0;31mAttributeError\u001b[0m: 'tuple' object has no attribute 'shape'"
     ]
    }
   ],
   "source": [
    "nn.LSTM(100, 100)(torch.randn(1*2, 3, 100))"
   ]
  },
  {
   "cell_type": "code",
   "execution_count": null,
   "metadata": {},
   "outputs": [],
   "source": []
  }
 ],
 "metadata": {
  "kernelspec": {
   "display_name": "Python 3",
   "language": "python",
   "name": "python3"
  },
  "language_info": {
   "codemirror_mode": {
    "name": "ipython",
    "version": 3
   },
   "file_extension": ".py",
   "mimetype": "text/x-python",
   "name": "python",
   "nbconvert_exporter": "python",
   "pygments_lexer": "ipython3",
   "version": "3.7.3"
  }
 },
 "nbformat": 4,
 "nbformat_minor": 2
}
